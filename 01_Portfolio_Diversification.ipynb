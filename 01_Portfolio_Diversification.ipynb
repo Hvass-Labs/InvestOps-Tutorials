{
 "cells": [
  {
   "cell_type": "markdown",
   "id": "a294379f",
   "metadata": {},
   "source": [
    "## InvestOps Tutorial 01 - Portfolio Diversification\n",
    "\n",
    "[Original repository on GitHub](https://github.com/Hvass-Labs/InvestOps-Tutorials)\n",
    "\n",
    "Original author is [Magnus Erik Hvass Pedersen](http://www.hvass-labs.org/)\n",
    "\n",
    "----\n",
    "\n",
    "From [Monty Python's Life of Brian](https://www.youtube.com/watch?v=KHbzSif78qQ):\n",
    "- Brian: \"*You've got to think for yourselves! You're all individuals!*\"\n",
    "- Crowd in unison: \"*Yes, we're all individuals!*\"\n",
    "- Brian: \"*You're all different!*\"\n",
    "- Crowd in unison: \"*Yes, we're all different!*\"\n",
    "- One man: \"*I'm not!*\""
   ]
  },
  {
   "cell_type": "markdown",
   "id": "ec07ce74",
   "metadata": {},
   "source": [
    "## Introduction\n",
    "\n",
    "This tutorial shows how to use the InvestOps function `diversify_weights` for improving the diversification of an investment portfolio, by lowering the correlations between different assets in the portfolio. The method is dubbed \"Hvass Diversification\" and is described in Section 8 of the [paper](#refs) referenced below. The method is simple, extremely fast to compute, and very robust to estimation errors in the correlation matrix.\n",
    "\n",
    "Briefly explained, given some portfolio weights of how much we want to invest in each asset, the diversification method calculates the so-called \"Full Exposure\" of how much the portfolio is actually exposed to each asset, both through the direct investment in each asset, but also through the correlation with other assets in the portfolio. The diversification method then uses a fairly simple and extremely fast algorithm to find new portfolio weights, whose Full Exposure is equal to the originally desired portfolio weights.\n",
    "\n",
    "Because the diversification method is only allowed to decrease the portfolio weights, the worst that can happen is that it moves too much of the portfolio into cash, which makes it extremely robust to estimation errors in the correlation matrix."
   ]
  },
  {
   "cell_type": "markdown",
   "id": "62ccb86f",
   "metadata": {},
   "source": [
    "## References <a id=\"refs\"></a>\n",
    "\n",
    "- M.E.H. Pedersen, \"*Simple Portfolio Optimization That Works!*\", 2021. ([PDF](https://ssrn.com/abstract=3942552))"
   ]
  },
  {
   "cell_type": "markdown",
   "id": "2a15efc2",
   "metadata": {},
   "source": [
    "## Imports"
   ]
  },
  {
   "cell_type": "code",
   "execution_count": 1,
   "id": "63722d4c",
   "metadata": {},
   "outputs": [],
   "source": [
    "# If any of these imports fail on Google Colab, then you can\n",
    "# un-comment the following pip-command to install the packages.\n",
    "# This is NOT recommended on your local computer, unless you\n",
    "# have already setup a Python environment for this project.\n",
    "# See the README on GitHub for detailed instructions.\n",
    "\n",
    "# !pip install investops numpy pandas matplotlib"
   ]
  },
  {
   "cell_type": "code",
   "execution_count": 2,
   "id": "b181895d",
   "metadata": {},
   "outputs": [],
   "source": [
    "# Python packages.\n",
    "import numpy as np\n",
    "import pandas as pd\n",
    "import matplotlib.pyplot as plt"
   ]
  },
  {
   "cell_type": "code",
   "execution_count": 3,
   "id": "2696e0dc",
   "metadata": {},
   "outputs": [],
   "source": [
    "# InvestOps.\n",
    "import investops as iv\n",
    "from investops.diversify import full_exposure, diversify_weights, log_to_dataframe\n",
    "from investops.random import rand_weights_normal, rand_corr_normal\n",
    "from investops.normalize import normalize_weights"
   ]
  },
  {
   "cell_type": "code",
   "execution_count": 4,
   "id": "ac1ddde6",
   "metadata": {},
   "outputs": [
    {
     "data": {
      "text/plain": [
       "'0.1.0'"
      ]
     },
     "execution_count": 4,
     "metadata": {},
     "output_type": "execute_result"
    }
   ],
   "source": [
    "# InvestOps version.\n",
    "iv.__version__"
   ]
  },
  {
   "cell_type": "markdown",
   "id": "5326a713",
   "metadata": {},
   "source": [
    "## Config"
   ]
  },
  {
   "cell_type": "code",
   "execution_count": 5,
   "id": "55d8a07f",
   "metadata": {},
   "outputs": [],
   "source": [
    "# Random number generator.\n",
    "# The seed makes the experiments repeatable.\n",
    "rng = np.random.default_rng(seed=80085)"
   ]
  },
  {
   "cell_type": "markdown",
   "id": "195b786b",
   "metadata": {},
   "source": [
    "## Positive Weights &amp; Correlations\n",
    "\n",
    "The first example is very simple. We only have 3 assets in the portfolio and all the portfolio weights and correlations are positive."
   ]
  },
  {
   "cell_type": "code",
   "execution_count": 6,
   "id": "a0df1f46",
   "metadata": {},
   "outputs": [],
   "source": [
    "# Originally desired portfolio weights.\n",
    "weights_org = np.array([0.1, 0.2, 0.3])\n",
    "\n",
    "# Correlation matrix.\n",
    "corr = np.array([[1.0, 0.5, 0.7],\n",
    "                 [0.5, 1.0, 0.2],\n",
    "                 [0.7, 0.2, 1.0]])"
   ]
  },
  {
   "cell_type": "code",
   "execution_count": 7,
   "id": "bb824516",
   "metadata": {},
   "outputs": [
    {
     "data": {
      "text/plain": [
       "array([0.17233688, 0.21771541, 0.32726136])"
      ]
     },
     "execution_count": 7,
     "metadata": {},
     "output_type": "execute_result"
    }
   ],
   "source": [
    "# Calculate and show the Full Exposure of the original weights.\n",
    "full_exposure(weights=weights_org, corr=corr)"
   ]
  },
  {
   "cell_type": "markdown",
   "id": "5f293a9c",
   "metadata": {},
   "source": [
    "So the portfolio's Full Exposure is actually 17.2% for Asset 1, 21.8% for Asset 2, and 32.7% for Asset 3, even though the original portfolio weights were only 10%, 20%, and 30%. This is because the Full Exposure measures both the portfolio's direct investment in each asset, as well as the indirect exposure through correlations with other assets in the portfolio.\n",
    "\n",
    "The goal is then to find new portfolio weights whose Full Exposure is equal to the originally desired portfolio weights, which is done by the function `diversify_weights`."
   ]
  },
  {
   "cell_type": "code",
   "execution_count": 8,
   "id": "6587c1f6",
   "metadata": {},
   "outputs": [
    {
     "data": {
      "text/plain": [
       "array([0.04349538, 0.18915543, 0.28590522])"
      ]
     },
     "execution_count": 8,
     "metadata": {},
     "output_type": "execute_result"
    }
   ],
   "source": [
    "# Calculate and show the adjusted portfolio weights.\n",
    "diversify_weights(weights_org=weights_org, corr=corr)"
   ]
  },
  {
   "cell_type": "markdown",
   "id": "3616ce07",
   "metadata": {},
   "source": [
    "So we need to invest about 4.3% of the portfolio in Asset 1, 18.9% in Asset 2, and 28.6% in Asset 3, in order for their Full Exposures to equal the originally desired portfolio weights of 10%, 20%, and 30%."
   ]
  },
  {
   "cell_type": "markdown",
   "id": "856b78a2",
   "metadata": {},
   "source": [
    "## Using Asset Names\n",
    "\n",
    "This example shows how to use the diversification function with Pandas Series and DataFrames instead of Numpy arrays, so we can use names for the assets in the portfolio. This example uses the same portfolio weights and correlation matrix from the previous example."
   ]
  },
  {
   "cell_type": "code",
   "execution_count": 9,
   "id": "00e12d53",
   "metadata": {},
   "outputs": [],
   "source": [
    "# Stock-tickers used as the asset names in the portfolio.\n",
    "names = ['AAPL', 'GOOG', 'MSFT']"
   ]
  },
  {
   "cell_type": "code",
   "execution_count": 10,
   "id": "3951dba7",
   "metadata": {},
   "outputs": [
    {
     "data": {
      "text/html": [
       "<div>\n",
       "<style scoped>\n",
       "    .dataframe tbody tr th:only-of-type {\n",
       "        vertical-align: middle;\n",
       "    }\n",
       "\n",
       "    .dataframe tbody tr th {\n",
       "        vertical-align: top;\n",
       "    }\n",
       "\n",
       "    .dataframe thead th {\n",
       "        text-align: right;\n",
       "    }\n",
       "</style>\n",
       "<table border=\"1\" class=\"dataframe\">\n",
       "  <thead>\n",
       "    <tr style=\"text-align: right;\">\n",
       "      <th></th>\n",
       "      <th>AAPL</th>\n",
       "      <th>GOOG</th>\n",
       "      <th>MSFT</th>\n",
       "    </tr>\n",
       "  </thead>\n",
       "  <tbody>\n",
       "    <tr>\n",
       "      <th>AAPL</th>\n",
       "      <td>1.0</td>\n",
       "      <td>0.5</td>\n",
       "      <td>0.7</td>\n",
       "    </tr>\n",
       "    <tr>\n",
       "      <th>GOOG</th>\n",
       "      <td>0.5</td>\n",
       "      <td>1.0</td>\n",
       "      <td>0.2</td>\n",
       "    </tr>\n",
       "    <tr>\n",
       "      <th>MSFT</th>\n",
       "      <td>0.7</td>\n",
       "      <td>0.2</td>\n",
       "      <td>1.0</td>\n",
       "    </tr>\n",
       "  </tbody>\n",
       "</table>\n",
       "</div>"
      ],
      "text/plain": [
       "      AAPL  GOOG  MSFT\n",
       "AAPL   1.0   0.5   0.7\n",
       "GOOG   0.5   1.0   0.2\n",
       "MSFT   0.7   0.2   1.0"
      ]
     },
     "execution_count": 10,
     "metadata": {},
     "output_type": "execute_result"
    }
   ],
   "source": [
    "# Convert correlation matrix from Numpy to Pandas DataFrame.\n",
    "df_corr = pd.DataFrame(data=corr, index=names, columns=names)\n",
    "df_corr"
   ]
  },
  {
   "cell_type": "code",
   "execution_count": 11,
   "id": "6d0b03c8",
   "metadata": {},
   "outputs": [
    {
     "data": {
      "text/html": [
       "<div>\n",
       "<style scoped>\n",
       "    .dataframe tbody tr th:only-of-type {\n",
       "        vertical-align: middle;\n",
       "    }\n",
       "\n",
       "    .dataframe tbody tr th {\n",
       "        vertical-align: top;\n",
       "    }\n",
       "\n",
       "    .dataframe thead th {\n",
       "        text-align: right;\n",
       "    }\n",
       "</style>\n",
       "<table border=\"1\" class=\"dataframe\">\n",
       "  <thead>\n",
       "    <tr style=\"text-align: right;\">\n",
       "      <th></th>\n",
       "      <th>0</th>\n",
       "    </tr>\n",
       "  </thead>\n",
       "  <tbody>\n",
       "    <tr>\n",
       "      <th>AAPL</th>\n",
       "      <td>0.1</td>\n",
       "    </tr>\n",
       "    <tr>\n",
       "      <th>GOOG</th>\n",
       "      <td>0.2</td>\n",
       "    </tr>\n",
       "    <tr>\n",
       "      <th>MSFT</th>\n",
       "      <td>0.3</td>\n",
       "    </tr>\n",
       "  </tbody>\n",
       "</table>\n",
       "</div>"
      ],
      "text/plain": [
       "        0\n",
       "AAPL  0.1\n",
       "GOOG  0.2\n",
       "MSFT  0.3"
      ]
     },
     "execution_count": 11,
     "metadata": {},
     "output_type": "execute_result"
    }
   ],
   "source": [
    "# Convert original weights from Numpy to Pandas DataFrame.\n",
    "# It is recommended that you use a Pandas Series instead,\n",
    "# but if you need to use a DataFrame, it is important that\n",
    "# it is formatted like this, so it has a single column, the\n",
    "# rows are the original weights for the different assets,\n",
    "# and the index of the rows are the asset names.\n",
    "df_weights_org = pd.DataFrame(data=weights_org, index=names)\n",
    "df_weights_org"
   ]
  },
  {
   "cell_type": "code",
   "execution_count": 12,
   "id": "0f917e77",
   "metadata": {},
   "outputs": [
    {
     "data": {
      "text/plain": [
       "AAPL    0.1\n",
       "GOOG    0.2\n",
       "MSFT    0.3\n",
       "dtype: float64"
      ]
     },
     "execution_count": 12,
     "metadata": {},
     "output_type": "execute_result"
    }
   ],
   "source": [
    "# Convert original weights from Numpy to Pandas Series.\n",
    "ser_weights_org = pd.Series(data=weights_org, index=names)\n",
    "ser_weights_org"
   ]
  },
  {
   "cell_type": "code",
   "execution_count": 13,
   "id": "b922dd1c",
   "metadata": {},
   "outputs": [
    {
     "data": {
      "text/plain": [
       "AAPL    0.043495\n",
       "GOOG    0.189155\n",
       "MSFT    0.285905\n",
       "dtype: float64"
      ]
     },
     "execution_count": 13,
     "metadata": {},
     "output_type": "execute_result"
    }
   ],
   "source": [
    "# Call the diversifier with the weights being a Pandas Series.\n",
    "diversify_weights(weights_org=ser_weights_org, corr=df_corr)"
   ]
  },
  {
   "cell_type": "code",
   "execution_count": 14,
   "id": "9a498d75",
   "metadata": {},
   "outputs": [
    {
     "data": {
      "text/plain": [
       "AAPL    0.043495\n",
       "GOOG    0.189155\n",
       "MSFT    0.285905\n",
       "dtype: float64"
      ]
     },
     "execution_count": 14,
     "metadata": {},
     "output_type": "execute_result"
    }
   ],
   "source": [
    "# Call the diversifier with the weights being a Pandas DataFrame.\n",
    "diversify_weights(weights_org=df_weights_org, corr=df_corr)"
   ]
  },
  {
   "cell_type": "markdown",
   "id": "a5a73e58",
   "metadata": {},
   "source": [
    "Note that there is some extra overhead in using Pandas data with the `diversify_weights` function, because it checks the data is correct and also converts it to Numpy for internal processing, and then converts the result to a Pandas Series again.\n",
    "\n",
    "So if you are using the diversification algorithm in a performance-critical application such as back-testing or High-Frequency Trading, then you may want to only pass Numpy arrays to the `diversify_weights` function for faster computation speed."
   ]
  },
  {
   "cell_type": "markdown",
   "id": "93b196e3",
   "metadata": {},
   "source": [
    "## Positive / Negative Weights &amp; Correlations\n",
    "\n",
    "This example has both positive and negative portfolio weights and correlations. Some of the correlations are now deemed \"good\" and are therefore not included in the calculation of the Full Exposure, see Section 8.3 in the [paper](#refs) for an explanation of this."
   ]
  },
  {
   "cell_type": "code",
   "execution_count": 15,
   "id": "80bc33eb",
   "metadata": {},
   "outputs": [],
   "source": [
    "# Originally desired portfolio weights.\n",
    "weights_org = np.array([0.1, 0.2, -0.3])\n",
    "\n",
    "# Correlation matrix.\n",
    "corr = np.array([[1.0, -0.5, 0.7],\n",
    "                 [-0.5, 1.0, -0.2],\n",
    "                 [0.7, -0.2, 1.0]])"
   ]
  },
  {
   "cell_type": "code",
   "execution_count": 16,
   "id": "407e5bab",
   "metadata": {},
   "outputs": [
    {
     "data": {
      "text/plain": [
       "array([ 0.1       ,  0.2059126 , -0.30397368])"
      ]
     },
     "execution_count": 16,
     "metadata": {},
     "output_type": "execute_result"
    }
   ],
   "source": [
    "# Calculate and show the Full Exposure of the original weights.\n",
    "full_exposure(weights=weights_org, corr=corr)"
   ]
  },
  {
   "cell_type": "code",
   "execution_count": 17,
   "id": "2915c1d0",
   "metadata": {},
   "outputs": [
    {
     "data": {
      "text/plain": [
       "array([ 0.1       ,  0.19416661, -0.2961424 ])"
      ]
     },
     "execution_count": 17,
     "metadata": {},
     "output_type": "execute_result"
    }
   ],
   "source": [
    "# Calculate and show the adjusted portfolio weights.\n",
    "diversify_weights(weights_org=weights_org, corr=corr)"
   ]
  },
  {
   "cell_type": "markdown",
   "id": "193fa66f",
   "metadata": {},
   "source": [
    "So we need to invest 10% of the portfolio in Asset 1 which is the same as the originally desired portfolio weight for Asset 1, because its correlations with the other two assets are deemed \"good\" so they don't require adjustment. But we should only invest 19.4% in Asset 2 and -29.6% in Asset 3. This makes all the Full Exposures equal to the originally desired portfolio weights of 10%, 20%, and -30%."
   ]
  },
  {
   "cell_type": "markdown",
   "id": "23ecb26c",
   "metadata": {},
   "source": [
    "## \"Crazy\" Initial Weights\n",
    "\n",
    "This example uses the same portfolio weights and correlations as in the previous example. But now we supply the diversification algorithm with a guess for the adjusted weights which is just \"crazy\" wrong. The diversification algorithm handles this very well, and already after the first iteration it has brought the portfolio weights back into a more normal range. See the sub-section titled \"Crazy Initialization\" in Section 8.12 of the [paper](#refs)."
   ]
  },
  {
   "cell_type": "code",
   "execution_count": 18,
   "id": "1d1225a0",
   "metadata": {},
   "outputs": [],
   "source": [
    "# Originally desired portfolio weights.\n",
    "weights_org = np.array([0.1, 0.2, -0.3])\n",
    "\n",
    "# A \"crazy\" wrong guess for the adjusted portfolio weights.\n",
    "weights_guess = np.array([-123, 0.001, -789])\n",
    "\n",
    "# Correlation matrix.\n",
    "corr = np.array([[1.0, -0.5, 0.7],\n",
    "                 [-0.5, 1.0, -0.2],\n",
    "                 [0.7, -0.2, 1.0]])"
   ]
  },
  {
   "cell_type": "code",
   "execution_count": 19,
   "id": "336a6ec5",
   "metadata": {},
   "outputs": [
    {
     "data": {
      "text/plain": [
       "array([-2.50363857e+02,  2.49621714e-01, -8.18580516e+02])"
      ]
     },
     "execution_count": 19,
     "metadata": {},
     "output_type": "execute_result"
    }
   ],
   "source": [
    "# Calculate and show the Full Exposure of the guessed weights.\n",
    "# These are very far from the originally desired portfolio weights.\n",
    "full_exposure(weights=weights_guess, corr=corr)"
   ]
  },
  {
   "cell_type": "code",
   "execution_count": 20,
   "id": "c72db44b",
   "metadata": {},
   "outputs": [
    {
     "data": {
      "text/plain": [
       "array([ 0.1       ,  0.19415402, -0.29614218])"
      ]
     },
     "execution_count": 20,
     "metadata": {},
     "output_type": "execute_result"
    }
   ],
   "source": [
    "# Calculate the adjusted portfolio weights, using weights_guess\n",
    "# as a starting guess for the adjusted weights. Log all iterations.\n",
    "log = []\n",
    "diversify_weights(weights_org=weights_org, corr=corr,\n",
    "                  weights_guess=weights_guess, log=log)"
   ]
  },
  {
   "cell_type": "code",
   "execution_count": 21,
   "id": "50c9a1ee",
   "metadata": {},
   "outputs": [
    {
     "data": {
      "text/html": [
       "<div>\n",
       "<style scoped>\n",
       "    .dataframe tbody tr th:only-of-type {\n",
       "        vertical-align: middle;\n",
       "    }\n",
       "\n",
       "    .dataframe tbody tr th {\n",
       "        vertical-align: top;\n",
       "    }\n",
       "\n",
       "    .dataframe thead th {\n",
       "        text-align: right;\n",
       "    }\n",
       "</style>\n",
       "<table border=\"1\" class=\"dataframe\">\n",
       "  <thead>\n",
       "    <tr style=\"text-align: right;\">\n",
       "      <th></th>\n",
       "      <th>Weight 1</th>\n",
       "      <th>Full Exp. 1</th>\n",
       "      <th>Weight 2</th>\n",
       "      <th>Full Exp. 2</th>\n",
       "      <th>Weight 3</th>\n",
       "      <th>Full Exp. 3</th>\n",
       "      <th>MSE</th>\n",
       "    </tr>\n",
       "    <tr>\n",
       "      <th>Iteration</th>\n",
       "      <th></th>\n",
       "      <th></th>\n",
       "      <th></th>\n",
       "      <th></th>\n",
       "      <th></th>\n",
       "      <th></th>\n",
       "      <th></th>\n",
       "    </tr>\n",
       "  </thead>\n",
       "  <tbody>\n",
       "    <tr>\n",
       "      <th>0</th>\n",
       "      <td>-123.000000</td>\n",
       "      <td>-250.363857</td>\n",
       "      <td>0.001000</td>\n",
       "      <td>0.249622</td>\n",
       "      <td>-789.000000</td>\n",
       "      <td>-818.580516</td>\n",
       "      <td>2.441050e+05</td>\n",
       "    </tr>\n",
       "    <tr>\n",
       "      <th>1</th>\n",
       "      <td>0.049128</td>\n",
       "      <td>0.049128</td>\n",
       "      <td>0.001126</td>\n",
       "      <td>0.003844</td>\n",
       "      <td>-0.300000</td>\n",
       "      <td>-0.300023</td>\n",
       "      <td>1.368835e-02</td>\n",
       "    </tr>\n",
       "    <tr>\n",
       "      <th>2</th>\n",
       "      <td>0.100000</td>\n",
       "      <td>0.100000</td>\n",
       "      <td>0.058573</td>\n",
       "      <td>0.064272</td>\n",
       "      <td>-0.298835</td>\n",
       "      <td>-0.300005</td>\n",
       "      <td>6.140693e-03</td>\n",
       "    </tr>\n",
       "    <tr>\n",
       "      <th>3</th>\n",
       "      <td>0.100000</td>\n",
       "      <td>0.100000</td>\n",
       "      <td>0.182265</td>\n",
       "      <td>0.188099</td>\n",
       "      <td>-0.296406</td>\n",
       "      <td>-0.300029</td>\n",
       "      <td>4.720804e-05</td>\n",
       "    </tr>\n",
       "    <tr>\n",
       "      <th>4</th>\n",
       "      <td>0.100000</td>\n",
       "      <td>0.100000</td>\n",
       "      <td>0.193796</td>\n",
       "      <td>0.199631</td>\n",
       "      <td>-0.296152</td>\n",
       "      <td>-0.300003</td>\n",
       "      <td>4.531185e-08</td>\n",
       "    </tr>\n",
       "    <tr>\n",
       "      <th>5</th>\n",
       "      <td>0.100000</td>\n",
       "      <td>0.100000</td>\n",
       "      <td>0.194154</td>\n",
       "      <td>0.199989</td>\n",
       "      <td>-0.296142</td>\n",
       "      <td>-0.300000</td>\n",
       "      <td>3.901166e-11</td>\n",
       "    </tr>\n",
       "  </tbody>\n",
       "</table>\n",
       "</div>"
      ],
      "text/plain": [
       "             Weight 1  Full Exp. 1  Weight 2  Full Exp. 2    Weight 3  \\\n",
       "Iteration                                                               \n",
       "0         -123.000000  -250.363857  0.001000     0.249622 -789.000000   \n",
       "1            0.049128     0.049128  0.001126     0.003844   -0.300000   \n",
       "2            0.100000     0.100000  0.058573     0.064272   -0.298835   \n",
       "3            0.100000     0.100000  0.182265     0.188099   -0.296406   \n",
       "4            0.100000     0.100000  0.193796     0.199631   -0.296152   \n",
       "5            0.100000     0.100000  0.194154     0.199989   -0.296142   \n",
       "\n",
       "           Full Exp. 3           MSE  \n",
       "Iteration                             \n",
       "0          -818.580516  2.441050e+05  \n",
       "1            -0.300023  1.368835e-02  \n",
       "2            -0.300005  6.140693e-03  \n",
       "3            -0.300029  4.720804e-05  \n",
       "4            -0.300003  4.531185e-08  \n",
       "5            -0.300000  3.901166e-11  "
      ]
     },
     "execution_count": 21,
     "metadata": {},
     "output_type": "execute_result"
    }
   ],
   "source": [
    "# Show the log of all the iterations of weight adjustments.\n",
    "log_to_dataframe(weights_org=weights_org, corr=corr, log=log)"
   ]
  },
  {
   "cell_type": "markdown",
   "id": "001ce012",
   "metadata": {},
   "source": [
    "The diversification algorithm corrected the \"crazy\" wrong guess for the portfolio weights already after the first iteration. The bottom-row of the log shows the same adjusted portfolio weights as in the previous example, which was initialized with the original portfolio weights.\n",
    "\n",
    "Also note how the Mean Squared Error (MSE) between the Full Exposure and the originally desired weights decrease by several orders of magnitude in most iterations."
   ]
  },
  {
   "cell_type": "markdown",
   "id": "88dba09b",
   "metadata": {},
   "source": [
    "## Higher Precision\n",
    "\n",
    "This example uses the same portfolio weights and correlations as in the previous example, but it uses the default weight-initialization instead of the \"crazy\" wrong guess. And now we want an even higher precision in the adjusted portfolio weights, so their Full Exposures are even closer to the originally desired weights. This is done by setting the argument `tol` (short for \"error **tol**erance\") to a value that is close to, but not equal to zero."
   ]
  },
  {
   "cell_type": "code",
   "execution_count": 22,
   "id": "05da0947",
   "metadata": {},
   "outputs": [
    {
     "data": {
      "text/plain": [
       "array([ 0.1       ,  0.19416484, -0.29614184])"
      ]
     },
     "execution_count": 22,
     "metadata": {},
     "output_type": "execute_result"
    }
   ],
   "source": [
    "# Calculate the adjusted portfolio weights with higher precision.\n",
    "# Log all iterations.\n",
    "log = []\n",
    "diversify_weights(weights_org=weights_org, corr=corr,\n",
    "                  tol=1e-20, log=log)"
   ]
  },
  {
   "cell_type": "code",
   "execution_count": 23,
   "id": "899f7d0b",
   "metadata": {},
   "outputs": [
    {
     "data": {
      "text/html": [
       "<div>\n",
       "<style scoped>\n",
       "    .dataframe tbody tr th:only-of-type {\n",
       "        vertical-align: middle;\n",
       "    }\n",
       "\n",
       "    .dataframe tbody tr th {\n",
       "        vertical-align: top;\n",
       "    }\n",
       "\n",
       "    .dataframe thead th {\n",
       "        text-align: right;\n",
       "    }\n",
       "</style>\n",
       "<table border=\"1\" class=\"dataframe\">\n",
       "  <thead>\n",
       "    <tr style=\"text-align: right;\">\n",
       "      <th></th>\n",
       "      <th>Weight 1</th>\n",
       "      <th>Full Exp. 1</th>\n",
       "      <th>Weight 2</th>\n",
       "      <th>Full Exp. 2</th>\n",
       "      <th>Weight 3</th>\n",
       "      <th>Full Exp. 3</th>\n",
       "      <th>MSE</th>\n",
       "    </tr>\n",
       "    <tr>\n",
       "      <th>Iteration</th>\n",
       "      <th></th>\n",
       "      <th></th>\n",
       "      <th></th>\n",
       "      <th></th>\n",
       "      <th></th>\n",
       "      <th></th>\n",
       "      <th></th>\n",
       "    </tr>\n",
       "  </thead>\n",
       "  <tbody>\n",
       "    <tr>\n",
       "      <th>0</th>\n",
       "      <td>0.1</td>\n",
       "      <td>0.1</td>\n",
       "      <td>0.200000</td>\n",
       "      <td>0.205913</td>\n",
       "      <td>-0.300000</td>\n",
       "      <td>-0.303974</td>\n",
       "      <td>1.691634e-05</td>\n",
       "    </tr>\n",
       "    <tr>\n",
       "      <th>1</th>\n",
       "      <td>0.1</td>\n",
       "      <td>0.1</td>\n",
       "      <td>0.194257</td>\n",
       "      <td>0.200093</td>\n",
       "      <td>-0.296189</td>\n",
       "      <td>-0.300049</td>\n",
       "      <td>3.691786e-09</td>\n",
       "    </tr>\n",
       "    <tr>\n",
       "      <th>2</th>\n",
       "      <td>0.1</td>\n",
       "      <td>0.1</td>\n",
       "      <td>0.194167</td>\n",
       "      <td>0.200002</td>\n",
       "      <td>-0.296142</td>\n",
       "      <td>-0.300001</td>\n",
       "      <td>1.177572e-12</td>\n",
       "    </tr>\n",
       "    <tr>\n",
       "      <th>3</th>\n",
       "      <td>0.1</td>\n",
       "      <td>0.1</td>\n",
       "      <td>0.194165</td>\n",
       "      <td>0.200000</td>\n",
       "      <td>-0.296142</td>\n",
       "      <td>-0.300000</td>\n",
       "      <td>5.607358e-16</td>\n",
       "    </tr>\n",
       "    <tr>\n",
       "      <th>4</th>\n",
       "      <td>0.1</td>\n",
       "      <td>0.1</td>\n",
       "      <td>0.194165</td>\n",
       "      <td>0.200000</td>\n",
       "      <td>-0.296142</td>\n",
       "      <td>-0.300000</td>\n",
       "      <td>3.607612e-19</td>\n",
       "    </tr>\n",
       "    <tr>\n",
       "      <th>5</th>\n",
       "      <td>0.1</td>\n",
       "      <td>0.1</td>\n",
       "      <td>0.194165</td>\n",
       "      <td>0.200000</td>\n",
       "      <td>-0.296142</td>\n",
       "      <td>-0.300000</td>\n",
       "      <td>2.731758e-22</td>\n",
       "    </tr>\n",
       "    <tr>\n",
       "      <th>6</th>\n",
       "      <td>0.1</td>\n",
       "      <td>0.1</td>\n",
       "      <td>0.194165</td>\n",
       "      <td>0.200000</td>\n",
       "      <td>-0.296142</td>\n",
       "      <td>-0.300000</td>\n",
       "      <td>2.229910e-25</td>\n",
       "    </tr>\n",
       "    <tr>\n",
       "      <th>7</th>\n",
       "      <td>0.1</td>\n",
       "      <td>0.1</td>\n",
       "      <td>0.194165</td>\n",
       "      <td>0.200000</td>\n",
       "      <td>-0.296142</td>\n",
       "      <td>-0.300000</td>\n",
       "      <td>1.881639e-28</td>\n",
       "    </tr>\n",
       "    <tr>\n",
       "      <th>8</th>\n",
       "      <td>0.1</td>\n",
       "      <td>0.1</td>\n",
       "      <td>0.194165</td>\n",
       "      <td>0.200000</td>\n",
       "      <td>-0.296142</td>\n",
       "      <td>-0.300000</td>\n",
       "      <td>1.615213e-31</td>\n",
       "    </tr>\n",
       "    <tr>\n",
       "      <th>9</th>\n",
       "      <td>0.1</td>\n",
       "      <td>0.1</td>\n",
       "      <td>0.194165</td>\n",
       "      <td>0.200000</td>\n",
       "      <td>-0.296142</td>\n",
       "      <td>-0.300000</td>\n",
       "      <td>1.283953e-33</td>\n",
       "    </tr>\n",
       "    <tr>\n",
       "      <th>10</th>\n",
       "      <td>0.1</td>\n",
       "      <td>0.1</td>\n",
       "      <td>0.194165</td>\n",
       "      <td>0.200000</td>\n",
       "      <td>-0.296142</td>\n",
       "      <td>-0.300000</td>\n",
       "      <td>0.000000e+00</td>\n",
       "    </tr>\n",
       "    <tr>\n",
       "      <th>11</th>\n",
       "      <td>0.1</td>\n",
       "      <td>0.1</td>\n",
       "      <td>0.194165</td>\n",
       "      <td>0.200000</td>\n",
       "      <td>-0.296142</td>\n",
       "      <td>-0.300000</td>\n",
       "      <td>0.000000e+00</td>\n",
       "    </tr>\n",
       "  </tbody>\n",
       "</table>\n",
       "</div>"
      ],
      "text/plain": [
       "           Weight 1  Full Exp. 1  Weight 2  Full Exp. 2  Weight 3  \\\n",
       "Iteration                                                           \n",
       "0               0.1          0.1  0.200000     0.205913 -0.300000   \n",
       "1               0.1          0.1  0.194257     0.200093 -0.296189   \n",
       "2               0.1          0.1  0.194167     0.200002 -0.296142   \n",
       "3               0.1          0.1  0.194165     0.200000 -0.296142   \n",
       "4               0.1          0.1  0.194165     0.200000 -0.296142   \n",
       "5               0.1          0.1  0.194165     0.200000 -0.296142   \n",
       "6               0.1          0.1  0.194165     0.200000 -0.296142   \n",
       "7               0.1          0.1  0.194165     0.200000 -0.296142   \n",
       "8               0.1          0.1  0.194165     0.200000 -0.296142   \n",
       "9               0.1          0.1  0.194165     0.200000 -0.296142   \n",
       "10              0.1          0.1  0.194165     0.200000 -0.296142   \n",
       "11              0.1          0.1  0.194165     0.200000 -0.296142   \n",
       "\n",
       "           Full Exp. 3           MSE  \n",
       "Iteration                             \n",
       "0            -0.303974  1.691634e-05  \n",
       "1            -0.300049  3.691786e-09  \n",
       "2            -0.300001  1.177572e-12  \n",
       "3            -0.300000  5.607358e-16  \n",
       "4            -0.300000  3.607612e-19  \n",
       "5            -0.300000  2.731758e-22  \n",
       "6            -0.300000  2.229910e-25  \n",
       "7            -0.300000  1.881639e-28  \n",
       "8            -0.300000  1.615213e-31  \n",
       "9            -0.300000  1.283953e-33  \n",
       "10           -0.300000  0.000000e+00  \n",
       "11           -0.300000  0.000000e+00  "
      ]
     },
     "execution_count": 23,
     "metadata": {},
     "output_type": "execute_result"
    }
   ],
   "source": [
    "# Show the log of all the iterations of weight adjustments.\n",
    "log_to_dataframe(weights_org=weights_org, corr=corr, log=log)"
   ]
  },
  {
   "cell_type": "markdown",
   "id": "5bfe5948",
   "metadata": {},
   "source": [
    "Compared to the previous section that used the default argument `tol=1e-3` and which needed 5 iterations of the diversification algorithm to converge, we now need 11 iterations of the algorithm when `tol=1e-20`.\n",
    "\n",
    "Note that the Mean Squared Error (MSE) decreases by several orders of magnitude in each iteration and eventually becomes zero, which means the Full Exposures have become exactly equal to the originally desired portfolio weights."
   ]
  },
  {
   "cell_type": "markdown",
   "id": "b0d1bf9b",
   "metadata": {},
   "source": [
    "## Time Usage\n",
    "\n",
    "Let us now measure how long it takes to use the diversification algorithm on a portfolio with 1000 assets. We will generate random portfolio weights and correlations."
   ]
  },
  {
   "cell_type": "code",
   "execution_count": 24,
   "id": "c1e3ff30",
   "metadata": {},
   "outputs": [],
   "source": [
    "# Number of assets in the portfolio.\n",
    "num_assets = 1000\n",
    "\n",
    "# Originally desired portfolio weights.\n",
    "# These are randomly generated from a normal distribution.\n",
    "weights_org = rand_weights_normal(rng=rng, num_assets=num_assets,\n",
    "                                  mean=0.0, std=0.05,\n",
    "                                  min_weight=-0.2, max_weight=0.2)\n",
    "\n",
    "# Correlation matrix randomly generated from a normal distribution.\n",
    "corr = rand_corr_normal(rng=rng, num_assets=num_assets, mean=0.2)"
   ]
  },
  {
   "cell_type": "code",
   "execution_count": 25,
   "id": "a26887e4",
   "metadata": {},
   "outputs": [
    {
     "data": {
      "image/png": "[encoded data removed]",
      "text/plain": [
       "<Figure size 432x288 with 1 Axes>"
      ]
     },
     "metadata": {
      "needs_background": "light"
     },
     "output_type": "display_data"
    }
   ],
   "source": [
    "# Histogram of the randomly generated portfolio weights.\n",
    "plt.hist(weights_org, bins=100);"
   ]
  },
  {
   "cell_type": "code",
   "execution_count": 26,
   "id": "7c42182a",
   "metadata": {},
   "outputs": [
    {
     "data": {
      "image/png": "[encoded data removed]",
      "text/plain": [
       "<Figure size 432x288 with 1 Axes>"
      ]
     },
     "metadata": {
      "needs_background": "light"
     },
     "output_type": "display_data"
    }
   ],
   "source": [
    "# Histogram of the randomly generated correlation coefficients.\n",
    "plt.hist(corr.flatten(), bins=100);"
   ]
  },
  {
   "cell_type": "code",
   "execution_count": 27,
   "id": "1006ade0",
   "metadata": {},
   "outputs": [
    {
     "name": "stdout",
     "output_type": "stream",
     "text": [
      "19.6 ms ± 1.5 ms per loop (mean ± std. dev. of 7 runs, 10 loops each)\n"
     ]
    }
   ],
   "source": [
    "%%timeit\n",
    "# Measure the time-usage of the diversification algorithm.\n",
    "diversify_weights(weights_org=weights_org, corr=corr)"
   ]
  },
  {
   "cell_type": "markdown",
   "id": "c21ebc49",
   "metadata": {},
   "source": [
    "So the diversification algorithm only needed about **20 milli-seconds** to converge to a near-optimal solution for a portfolio with 1000 assets. This was run on a computer with a 2.6 GHz CPU (3.5 GHz boost). The time-usage obviously depends on the number of assets in the portfolio, the weights and correlations, and the speed of the computer.\n",
    "\n",
    "The time-complexity is quadratic if you hold the error tolerance fixed (which is the `tol` argument in the `diversify_weights` function). This means that for a portfolio of 10,000 assets, you should expect a time-usage of 10\\*10\\*20 milli-seconds = 2 seconds."
   ]
  },
  {
   "cell_type": "markdown",
   "id": "769ad4ab",
   "metadata": {},
   "source": [
    "## Compare Weights Before &amp; After\n",
    "\n",
    "Let us now compare the portfolio weights before and after they were adjusted by the diversification algorithm. This uses the same portfolio weights and correlations that were randomly generated in the previous example."
   ]
  },
  {
   "cell_type": "code",
   "execution_count": 28,
   "id": "fccdaf6d",
   "metadata": {},
   "outputs": [],
   "source": [
    "# Calculate the adjusted portfolio weights.\n",
    "weights_new = diversify_weights(weights_org=weights_org, corr=corr)"
   ]
  },
  {
   "cell_type": "code",
   "execution_count": 29,
   "id": "0d8c264f",
   "metadata": {},
   "outputs": [
    {
     "data": {
      "image/png": "[encoded data removed]",
      "text/plain": [
       "<Figure size 432x288 with 1 Axes>"
      ]
     },
     "metadata": {
      "needs_background": "light"
     },
     "output_type": "display_data"
    }
   ],
   "source": [
    "# Scatter-plot of the original portfolio weights on the x-axis\n",
    "# and the adjusted portfolio weights on the y-axis.\n",
    "plt.scatter(weights_org, weights_new);"
   ]
  },
  {
   "cell_type": "markdown",
   "id": "08e6403c",
   "metadata": {},
   "source": [
    "It appears that the diversification algorithm \"compresses\" the portfolio weights in a smooth but also non-linear way, so the weights that were originally closer to zero get moved dis-proportionally closer to zero. This of course depends on the exact values of the portfolio weights and correlations. It would be an interesting topic for you to research further. Perhaps it could lead to deeper insights into why the diversification algorithm works so well."
   ]
  },
  {
   "cell_type": "markdown",
   "id": "1fc8d3aa",
   "metadata": {},
   "source": [
    "## Weight Normalization\n",
    "\n",
    "The portfolio weights that are output from the function `diversify_weights` are not normalized, so they can sum to more than 1. This example shows how to normalize the portfolio weights using the function `normalize_weights` which can handle both positive and negative weights. We are reusing the weights and correlations from the previous examples."
   ]
  },
  {
   "cell_type": "code",
   "execution_count": 30,
   "id": "2339e420",
   "metadata": {},
   "outputs": [],
   "source": [
    "# Normalize the portfolio weights so the positive weights\n",
    "# sum to max 1.0, the negative weights sum to min -0.5,\n",
    "# and the ratio between the sums of positive and negative\n",
    "# weights is at most 0.2.\n",
    "weights_norm, cash = \\\n",
    "    normalize_weights(weights=weights_new, limit_pos=1.0,\n",
    "                      limit_neg=-0.5, max_ratio=0.2)"
   ]
  },
  {
   "cell_type": "code",
   "execution_count": 31,
   "id": "4347811f",
   "metadata": {},
   "outputs": [
    {
     "data": {
      "image/png": "[encoded data removed]",
      "text/plain": [
       "<Figure size 432x288 with 1 Axes>"
      ]
     },
     "metadata": {
      "needs_background": "light"
     },
     "output_type": "display_data"
    }
   ],
   "source": [
    "# Show the weights before (x-axis) and after (y-axis) normalization.\n",
    "plt.scatter(weights_new, weights_norm);"
   ]
  },
  {
   "cell_type": "markdown",
   "id": "8afdfa7c",
   "metadata": {},
   "source": [
    "Note that the function `normalize_weights` also accepts input-weights as 2-dimensional Numpy Arrays or Pandas DataFrames, where the rows are for time-steps and the columns are for the different assets. So you can use the function to normalize the weights for many time-steps at once, e.g. for use in back-testing an investing strategy."
   ]
  },
  {
   "cell_type": "markdown",
   "id": "85de6f7f",
   "metadata": {},
   "source": [
    "## License (MIT)\n",
    "\n",
    "This is published under the [MIT License](https://github.com/Hvass-Labs/InvestOps-Tutorials/blob/main/LICENSE) which allows very broad use for both academic and commercial purposes.\n",
    "\n",
    "You are very welcome to modify and use this source-code in your own project. Please keep a link to the [original repository](https://github.com/Hvass-Labs/InvestOps-Tutorials)."
   ]
  }
 ],
 "metadata": {
  "kernelspec": {
   "display_name": "Python 3 (ipykernel)",
   "language": "python",
   "name": "python3"
  },
  "language_info": {
   "codemirror_mode": {
    "name": "ipython",
    "version": 3
   },
   "file_extension": ".py",
   "mimetype": "text/x-python",
   "name": "python",
   "nbconvert_exporter": "python",
   "pygments_lexer": "ipython3",
   "version": "3.8.12"
  }
 },
 "nbformat": 4,
 "nbformat_minor": 5
}
