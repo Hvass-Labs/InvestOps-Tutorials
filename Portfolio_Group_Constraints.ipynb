{
 "cells": [
  {
   "cell_type": "markdown",
   "id": "a6ae204b",
   "metadata": {},
   "source": [
    "## InvestOps Tutorial - Portfolio Group Constraints\n",
    "\n",
    "[Original repository on GitHub](https://github.com/Hvass-Labs/InvestOps-Tutorials)\n",
    "\n",
    "Original author is [Magnus Erik Hvass Pedersen](http://www.hvass-labs.org/)\n",
    "\n",
    "----\n",
    "\n",
    "\"*How many bacon rolls you're wantings Sir, we don't have so much bacons!*\" - [Facejacker](https://www.youtube.com/watch?v=wKmhJFwwiSM)"
   ]
  },
  {
   "cell_type": "markdown",
   "id": "7fbc0dee",
   "metadata": {},
   "source": [
    "## Introduction\n",
    "\n",
    "One way of controlling risk in an investment portfolio, is to ensure that it is diversified in many different groups of assets, such as stocks, bonds, currencies and commodities, and across many different countries, industries, credit-ratings, etc.\n",
    "\n",
    "This tutorial shows how to adjust the portfolio weights according to the groups that the assets belong to, so the entire groups of assets are within some constraints or limits. This is an easy problem if all the groups are mutually exclusive, but the problem is much more complicated when assets may belong to many overlapping groups.\n",
    "\n",
    "For classic \"mean-variance\" portfolio optimization, the group constraints are solved as an integral part of the optimization problem. But when we are using another portfolio method such as the \"filter-diversify\" method, we need a separate method for adjusting the portfolio weights so they satisfy the group constraints. This tutorial shows how to use a very efficient algorithm for doing this.\n",
    "\n",
    "The paper referenced below gives a detailed explanation of the algorithm and how it works."
   ]
  },
  {
   "cell_type": "markdown",
   "id": "2fbefd22",
   "metadata": {},
   "source": [
    "## References <a id=\"refs\"></a>\n",
    "\n",
    "- M.E.H. Pedersen, \"*Portfolio Group Constraints*\", 2022. ([PDF](https://ssrn.com/abstract=4033243))"
   ]
  },
  {
   "cell_type": "markdown",
   "id": "7599cb70",
   "metadata": {},
   "source": [
    "## Google Colab"
   ]
  },
  {
   "cell_type": "code",
   "execution_count": 1,
   "id": "53ea831b",
   "metadata": {},
   "outputs": [],
   "source": [
    "# If running in Google Colab, automatically install the required\n",
    "# Python packages. This is NOT recommended on your local computer,\n",
    "# unless you have setup a Python environment for this project.\n",
    "# See the README on GitHub for detailed instructions.\n",
    "if 'google.colab' in str(get_ipython()):\n",
    "    !pip install investops numpy pandas matplotlib"
   ]
  },
  {
   "cell_type": "markdown",
   "id": "c1da07dd",
   "metadata": {},
   "source": [
    "## Imports"
   ]
  },
  {
   "cell_type": "code",
   "execution_count": 2,
   "id": "1e15beda",
   "metadata": {},
   "outputs": [],
   "source": [
    "%matplotlib inline"
   ]
  },
  {
   "cell_type": "code",
   "execution_count": 3,
   "id": "c995d218",
   "metadata": {},
   "outputs": [],
   "source": [
    "# Python packages.\n",
    "import numpy as np\n",
    "import pandas as pd\n",
    "import matplotlib.pyplot as plt"
   ]
  },
  {
   "cell_type": "code",
   "execution_count": 4,
   "id": "aba9caea",
   "metadata": {},
   "outputs": [],
   "source": [
    "# InvestOps.\n",
    "import investops as iv\n",
    "from investops.group_constraints import GroupConstraints\n",
    "from investops.random import (rand_normal, rand_uniform,\n",
    "                              rand_where, rand_groups,\n",
    "                              gen_asset_names, gen_group_names)"
   ]
  },
  {
   "cell_type": "code",
   "execution_count": 5,
   "id": "ff4091f3",
   "metadata": {},
   "outputs": [
    {
     "data": {
      "text/plain": [
       "'0.3.0'"
      ]
     },
     "execution_count": 5,
     "metadata": {},
     "output_type": "execute_result"
    }
   ],
   "source": [
    "# InvestOps version.\n",
    "iv.__version__"
   ]
  },
  {
   "cell_type": "markdown",
   "id": "0950cdfa",
   "metadata": {},
   "source": [
    "## Config"
   ]
  },
  {
   "cell_type": "code",
   "execution_count": 6,
   "id": "6bb35af8",
   "metadata": {},
   "outputs": [],
   "source": [
    "# Random number generator.\n",
    "# The seed makes the experiments repeatable.\n",
    "rng = np.random.default_rng(seed=80085)"
   ]
  },
  {
   "cell_type": "markdown",
   "id": "8cbdc4c7",
   "metadata": {},
   "source": [
    "## Small Example - Positive Weights\n",
    "\n",
    "This small example has 3 different groups named: Group A, B, and C, which could be different asset classes (stocks, bonds, commodities), or it could be different countries or industries. We then have 4 different assets named: Asset 1, 2, 3, and 4, which could be different bonds, stocks, etc. In this small example all the portfolio weights are positive."
   ]
  },
  {
   "cell_type": "code",
   "execution_count": 7,
   "id": "486eb0ea",
   "metadata": {},
   "outputs": [],
   "source": [
    "# The individual group-names.\n",
    "GROUP_A = 'Group A'\n",
    "GROUP_B = 'Group B'\n",
    "GROUP_C = 'Group C'\n",
    "\n",
    "# List of all the group-names.\n",
    "group_names = [GROUP_A, GROUP_B, GROUP_C]"
   ]
  },
  {
   "cell_type": "code",
   "execution_count": 8,
   "id": "01037d39",
   "metadata": {},
   "outputs": [],
   "source": [
    "# The individual asset-names.\n",
    "ASSET_1 = 'Asset 1'\n",
    "ASSET_2 = 'Asset 2'\n",
    "ASSET_3 = 'Asset 3'\n",
    "ASSET_4 = 'Asset 4'\n",
    "\n",
    "# List of all the asset-names.\n",
    "asset_names = [ASSET_1, ASSET_2, ASSET_3, ASSET_4]"
   ]
  },
  {
   "cell_type": "code",
   "execution_count": 9,
   "id": "9a0e737e",
   "metadata": {},
   "outputs": [],
   "source": [
    "# This data-structure defines the association between assets\n",
    "# and groups. It is a dictionary of lists, so it enables us to\n",
    "# lookup the list of groups that are associated with an asset-name.\n",
    "asset_to_groups = \\\n",
    "{\n",
    "    # Groups that Asset 1 belongs to.\n",
    "    ASSET_1: [GROUP_A],\n",
    "    \n",
    "    # Groups that Asset 2 belongs to.\n",
    "    ASSET_2: [GROUP_A, GROUP_B],\n",
    "    \n",
    "    # Groups that Asset 3 belongs to.\n",
    "    ASSET_3: [GROUP_B, GROUP_C],\n",
    "    \n",
    "    # Groups that Asset 4 belongs to.\n",
    "    ASSET_4: [GROUP_C],\n",
    "}"
   ]
  },
  {
   "cell_type": "code",
   "execution_count": 10,
   "id": "7945099f",
   "metadata": {},
   "outputs": [],
   "source": [
    "# Group-limits for the POSITIVE portfolio weights.\n",
    "# This must be a Pandas Series so the groups are named properly.\n",
    "group_lim_pos = {GROUP_A: 0.05, GROUP_B: 0.1, GROUP_C: 0.2}\n",
    "group_lim_pos = pd.Series(group_lim_pos)\n",
    "\n",
    "# We do not use group-limits for the NEGATIVE portfolio weights.\n",
    "group_lim_neg = None"
   ]
  },
  {
   "cell_type": "code",
   "execution_count": 11,
   "id": "f2cb22ce",
   "metadata": {},
   "outputs": [],
   "source": [
    "# Original portfolio weights found through some other process,\n",
    "# e.g. by estimating the future asset-returns and use them to\n",
    "# determine how much of the portfolio to invest in each asset.\n",
    "weights_org = {ASSET_1: 0.05, ASSET_2: 0.1, ASSET_3: 0.15, ASSET_4: 0.2}\n",
    "weights_org = pd.Series(weights_org)"
   ]
  },
  {
   "cell_type": "code",
   "execution_count": 12,
   "id": "b3c37076",
   "metadata": {},
   "outputs": [],
   "source": [
    "# Initialize the solver for the Group Constraints.\n",
    "# This sets up internal data-structures for efficiently solving\n",
    "# the problem. If you later change the asset-names, group-names,\n",
    "# group-limits, or the mapping from assets to lists of groups,\n",
    "# then you must create a new instance of this solver.\n",
    "grp = GroupConstraints(asset_names=asset_names,\n",
    "                       group_names=group_names,\n",
    "                       asset_to_groups=asset_to_groups,\n",
    "                       group_lim_pos=group_lim_pos,\n",
    "                       group_lim_neg=group_lim_neg)"
   ]
  },
  {
   "cell_type": "code",
   "execution_count": 13,
   "id": "80fecb40",
   "metadata": {
    "scrolled": true
   },
   "outputs": [
    {
     "data": {
      "text/plain": [
       "Asset 1    0.016667\n",
       "Asset 2    0.033333\n",
       "Asset 3    0.065788\n",
       "Asset 4    0.134212\n",
       "dtype: float64"
      ]
     },
     "execution_count": 13,
     "metadata": {},
     "output_type": "execute_result"
    }
   ],
   "source": [
    "# Calculate the adjusted weights that satisfy the group constraints.\n",
    "weights_new = grp.constrain_weights(weights_org=weights_org)\n",
    "weights_new"
   ]
  },
  {
   "cell_type": "code",
   "execution_count": 14,
   "id": "c8636ac8",
   "metadata": {},
   "outputs": [
    {
     "data": {
      "text/html": [
       "<div>\n",
       "<style scoped>\n",
       "    .dataframe tbody tr th:only-of-type {\n",
       "        vertical-align: middle;\n",
       "    }\n",
       "\n",
       "    .dataframe tbody tr th {\n",
       "        vertical-align: top;\n",
       "    }\n",
       "\n",
       "    .dataframe thead th {\n",
       "        text-align: right;\n",
       "    }\n",
       "</style>\n",
       "<table border=\"1\" class=\"dataframe\">\n",
       "  <thead>\n",
       "    <tr style=\"text-align: right;\">\n",
       "      <th></th>\n",
       "      <th>Asset 1</th>\n",
       "      <th>Asset 2</th>\n",
       "      <th>Asset 3</th>\n",
       "      <th>Asset 4</th>\n",
       "    </tr>\n",
       "  </thead>\n",
       "  <tbody>\n",
       "    <tr>\n",
       "      <th>0</th>\n",
       "      <td>0.050000</td>\n",
       "      <td>0.100000</td>\n",
       "      <td>0.150000</td>\n",
       "      <td>0.200000</td>\n",
       "    </tr>\n",
       "    <tr>\n",
       "      <th>1</th>\n",
       "      <td>0.016667</td>\n",
       "      <td>0.033333</td>\n",
       "      <td>0.060000</td>\n",
       "      <td>0.114286</td>\n",
       "    </tr>\n",
       "    <tr>\n",
       "      <th>2</th>\n",
       "      <td>0.016667</td>\n",
       "      <td>0.033333</td>\n",
       "      <td>0.064286</td>\n",
       "      <td>0.131148</td>\n",
       "    </tr>\n",
       "    <tr>\n",
       "      <th>3</th>\n",
       "      <td>0.016667</td>\n",
       "      <td>0.033333</td>\n",
       "      <td>0.065788</td>\n",
       "      <td>0.134212</td>\n",
       "    </tr>\n",
       "    <tr>\n",
       "      <th>4</th>\n",
       "      <td>0.016667</td>\n",
       "      <td>0.033333</td>\n",
       "      <td>0.065788</td>\n",
       "      <td>0.134212</td>\n",
       "    </tr>\n",
       "  </tbody>\n",
       "</table>\n",
       "</div>"
      ],
      "text/plain": [
       "    Asset 1   Asset 2   Asset 3   Asset 4\n",
       "0  0.050000  0.100000  0.150000  0.200000\n",
       "1  0.016667  0.033333  0.060000  0.114286\n",
       "2  0.016667  0.033333  0.064286  0.131148\n",
       "3  0.016667  0.033333  0.065788  0.134212\n",
       "4  0.016667  0.033333  0.065788  0.134212"
      ]
     },
     "execution_count": 14,
     "metadata": {},
     "output_type": "execute_result"
    }
   ],
   "source": [
    "# Calculate the adjusted weights that satisfy the group constraints.\n",
    "# This logs the adjusted weights for all iterations of the algorithm.\n",
    "# Note that it is significantly slower to log all results, so this\n",
    "# should only be done for testing / debugging purposes, and not for\n",
    "# an actual trading or back-testing-system.\n",
    "weights_new_log = grp.constrain_weights(weights_org=weights_org,\n",
    "                                        log=True)\n",
    "weights_new_log"
   ]
  },
  {
   "cell_type": "code",
   "execution_count": 15,
   "id": "9ddb0ca0",
   "metadata": {},
   "outputs": [
    {
     "data": {
      "text/html": [
       "<div>\n",
       "<style scoped>\n",
       "    .dataframe tbody tr th:only-of-type {\n",
       "        vertical-align: middle;\n",
       "    }\n",
       "\n",
       "    .dataframe tbody tr th {\n",
       "        vertical-align: top;\n",
       "    }\n",
       "\n",
       "    .dataframe thead th {\n",
       "        text-align: right;\n",
       "    }\n",
       "</style>\n",
       "<table border=\"1\" class=\"dataframe\">\n",
       "  <thead>\n",
       "    <tr style=\"text-align: right;\">\n",
       "      <th></th>\n",
       "      <th>Group A</th>\n",
       "      <th>Group B</th>\n",
       "      <th>Group C</th>\n",
       "    </tr>\n",
       "  </thead>\n",
       "  <tbody>\n",
       "    <tr>\n",
       "      <th>0</th>\n",
       "      <td>0.333333</td>\n",
       "      <td>0.400000</td>\n",
       "      <td>0.571429</td>\n",
       "    </tr>\n",
       "    <tr>\n",
       "      <th>1</th>\n",
       "      <td>1.000000</td>\n",
       "      <td>1.071429</td>\n",
       "      <td>1.147541</td>\n",
       "    </tr>\n",
       "    <tr>\n",
       "      <th>2</th>\n",
       "      <td>1.000000</td>\n",
       "      <td>1.024390</td>\n",
       "      <td>1.023367</td>\n",
       "    </tr>\n",
       "    <tr>\n",
       "      <th>3</th>\n",
       "      <td>1.000000</td>\n",
       "      <td>1.008866</td>\n",
       "      <td>1.000000</td>\n",
       "    </tr>\n",
       "    <tr>\n",
       "      <th>4</th>\n",
       "      <td>1.000000</td>\n",
       "      <td>1.008866</td>\n",
       "      <td>1.000000</td>\n",
       "    </tr>\n",
       "  </tbody>\n",
       "</table>\n",
       "</div>"
      ],
      "text/plain": [
       "    Group A   Group B   Group C\n",
       "0  0.333333  0.400000  0.571429\n",
       "1  1.000000  1.071429  1.147541\n",
       "2  1.000000  1.024390  1.023367\n",
       "3  1.000000  1.008866  1.000000\n",
       "4  1.000000  1.008866  1.000000"
      ]
     },
     "execution_count": 15,
     "metadata": {},
     "output_type": "execute_result"
    }
   ],
   "source": [
    "# Calculate the group-ratios between the group-limits / group-sums,\n",
    "# which are less than 1.0 if the group-sums are too high so the\n",
    "# portfolio weights must be decreased. And the group-ratios are\n",
    "# greater than 1.0 if the group-sums are lower than the group-limits,\n",
    "# so the portfolio weights could be increased. Ideally we want all\n",
    "# the group limits to be equal or slightly above 1.0, as those weights\n",
    "# satisfy all the group constraints while being the closest possible\n",
    "# to the original portfolio weights.\n",
    "group_ratios_pos, group_ratios_neg = grp.group_ratios(weights=weights_new_log)\n",
    "group_ratios_pos"
   ]
  },
  {
   "cell_type": "markdown",
   "id": "0a61ea61",
   "metadata": {},
   "source": [
    "## Small Example - Positive & Negative Weights\n",
    "\n",
    "This is another small example again using 3 groups and 4 assets, but this time some of the original portfolio weights are positive and some are negative."
   ]
  },
  {
   "cell_type": "code",
   "execution_count": 16,
   "id": "105d9283",
   "metadata": {},
   "outputs": [],
   "source": [
    "# Group-limits for the POSITIVE portfolio weights.\n",
    "group_lim_pos = {GROUP_A: 0.05, GROUP_B: 0.1, GROUP_C: 0.2}\n",
    "group_lim_pos = pd.Series(group_lim_pos)\n",
    "\n",
    "# Group-limits for the NEGATIVE portfolio weights.\n",
    "# These must all be negative values. Note the -np.inf which\n",
    "# indicates that there is no negative limit for Group A.\n",
    "group_lim_neg = {GROUP_A: -np.inf, GROUP_B: -0.15, GROUP_C: -0.1}\n",
    "group_lim_neg = pd.Series(group_lim_neg)"
   ]
  },
  {
   "cell_type": "code",
   "execution_count": 17,
   "id": "30cdbe4a",
   "metadata": {},
   "outputs": [],
   "source": [
    "# Original portfolio weights.\n",
    "weights_org = {ASSET_1: -0.05, ASSET_2: -0.1, ASSET_3: -0.15, ASSET_4: 0.2}\n",
    "weights_org = pd.Series(weights_org)"
   ]
  },
  {
   "cell_type": "code",
   "execution_count": 18,
   "id": "97f234bb",
   "metadata": {},
   "outputs": [],
   "source": [
    "# Initialize the solver for the Group Constraints.\n",
    "grp = GroupConstraints(asset_names=asset_names,\n",
    "                       group_names=group_names,\n",
    "                       asset_to_groups=asset_to_groups,\n",
    "                       group_lim_pos=group_lim_pos,\n",
    "                       group_lim_neg=group_lim_neg)"
   ]
  },
  {
   "cell_type": "code",
   "execution_count": 19,
   "id": "a38bb0ef",
   "metadata": {},
   "outputs": [
    {
     "data": {
      "text/plain": [
       "Asset 1   -0.05\n",
       "Asset 2   -0.06\n",
       "Asset 3   -0.09\n",
       "Asset 4    0.20\n",
       "dtype: float64"
      ]
     },
     "execution_count": 19,
     "metadata": {},
     "output_type": "execute_result"
    }
   ],
   "source": [
    "# Calculate the adjusted weights that satisfy the group constraints.\n",
    "weights_new = grp.constrain_weights(weights_org=weights_org)\n",
    "weights_new"
   ]
  },
  {
   "cell_type": "code",
   "execution_count": 20,
   "id": "42ee0982",
   "metadata": {},
   "outputs": [
    {
     "data": {
      "text/html": [
       "<div>\n",
       "<style scoped>\n",
       "    .dataframe tbody tr th:only-of-type {\n",
       "        vertical-align: middle;\n",
       "    }\n",
       "\n",
       "    .dataframe tbody tr th {\n",
       "        vertical-align: top;\n",
       "    }\n",
       "\n",
       "    .dataframe thead th {\n",
       "        text-align: right;\n",
       "    }\n",
       "</style>\n",
       "<table border=\"1\" class=\"dataframe\">\n",
       "  <thead>\n",
       "    <tr style=\"text-align: right;\">\n",
       "      <th></th>\n",
       "      <th>Asset 1</th>\n",
       "      <th>Asset 2</th>\n",
       "      <th>Asset 3</th>\n",
       "      <th>Asset 4</th>\n",
       "    </tr>\n",
       "  </thead>\n",
       "  <tbody>\n",
       "    <tr>\n",
       "      <th>0</th>\n",
       "      <td>-0.05</td>\n",
       "      <td>-0.10</td>\n",
       "      <td>-0.15</td>\n",
       "      <td>0.2</td>\n",
       "    </tr>\n",
       "    <tr>\n",
       "      <th>1</th>\n",
       "      <td>-0.05</td>\n",
       "      <td>-0.06</td>\n",
       "      <td>-0.09</td>\n",
       "      <td>0.2</td>\n",
       "    </tr>\n",
       "    <tr>\n",
       "      <th>2</th>\n",
       "      <td>-0.05</td>\n",
       "      <td>-0.06</td>\n",
       "      <td>-0.09</td>\n",
       "      <td>0.2</td>\n",
       "    </tr>\n",
       "  </tbody>\n",
       "</table>\n",
       "</div>"
      ],
      "text/plain": [
       "   Asset 1  Asset 2  Asset 3  Asset 4\n",
       "0    -0.05    -0.10    -0.15      0.2\n",
       "1    -0.05    -0.06    -0.09      0.2\n",
       "2    -0.05    -0.06    -0.09      0.2"
      ]
     },
     "execution_count": 20,
     "metadata": {},
     "output_type": "execute_result"
    }
   ],
   "source": [
    "# Calculate and log the adjusted weights satisfying the constraints.\n",
    "weights_new_log = grp.constrain_weights(weights_org=weights_org, log=True)\n",
    "weights_new_log"
   ]
  },
  {
   "cell_type": "code",
   "execution_count": 21,
   "id": "27714665",
   "metadata": {},
   "outputs": [
    {
     "data": {
      "text/html": [
       "<div>\n",
       "<style scoped>\n",
       "    .dataframe tbody tr th:only-of-type {\n",
       "        vertical-align: middle;\n",
       "    }\n",
       "\n",
       "    .dataframe tbody tr th {\n",
       "        vertical-align: top;\n",
       "    }\n",
       "\n",
       "    .dataframe thead th {\n",
       "        text-align: right;\n",
       "    }\n",
       "</style>\n",
       "<table border=\"1\" class=\"dataframe\">\n",
       "  <thead>\n",
       "    <tr style=\"text-align: right;\">\n",
       "      <th></th>\n",
       "      <th>Group A</th>\n",
       "      <th>Group B</th>\n",
       "      <th>Group C</th>\n",
       "    </tr>\n",
       "  </thead>\n",
       "  <tbody>\n",
       "    <tr>\n",
       "      <th>0</th>\n",
       "      <td>inf</td>\n",
       "      <td>inf</td>\n",
       "      <td>1.0</td>\n",
       "    </tr>\n",
       "    <tr>\n",
       "      <th>1</th>\n",
       "      <td>inf</td>\n",
       "      <td>inf</td>\n",
       "      <td>1.0</td>\n",
       "    </tr>\n",
       "    <tr>\n",
       "      <th>2</th>\n",
       "      <td>inf</td>\n",
       "      <td>inf</td>\n",
       "      <td>1.0</td>\n",
       "    </tr>\n",
       "  </tbody>\n",
       "</table>\n",
       "</div>"
      ],
      "text/plain": [
       "   Group A  Group B  Group C\n",
       "0      inf      inf      1.0\n",
       "1      inf      inf      1.0\n",
       "2      inf      inf      1.0"
      ]
     },
     "execution_count": 21,
     "metadata": {},
     "output_type": "execute_result"
    }
   ],
   "source": [
    "# Calculate the group-ratios between the group-limits / group-sums.\n",
    "# Note that a group-ratio of inf (infinity) means that either\n",
    "# the group-limit was inf, or the group-sum was zero. The goal\n",
    "# is still to have the non-inf group-ratios be equal to 1.0 or\n",
    "# slightly above.\n",
    "group_ratios_pos, group_ratios_neg = grp.group_ratios(weights=weights_new_log)\n",
    "group_ratios_pos"
   ]
  },
  {
   "cell_type": "code",
   "execution_count": 22,
   "id": "f1caec21",
   "metadata": {},
   "outputs": [
    {
     "data": {
      "text/html": [
       "<div>\n",
       "<style scoped>\n",
       "    .dataframe tbody tr th:only-of-type {\n",
       "        vertical-align: middle;\n",
       "    }\n",
       "\n",
       "    .dataframe tbody tr th {\n",
       "        vertical-align: top;\n",
       "    }\n",
       "\n",
       "    .dataframe thead th {\n",
       "        text-align: right;\n",
       "    }\n",
       "</style>\n",
       "<table border=\"1\" class=\"dataframe\">\n",
       "  <thead>\n",
       "    <tr style=\"text-align: right;\">\n",
       "      <th></th>\n",
       "      <th>Group A</th>\n",
       "      <th>Group B</th>\n",
       "      <th>Group C</th>\n",
       "    </tr>\n",
       "  </thead>\n",
       "  <tbody>\n",
       "    <tr>\n",
       "      <th>0</th>\n",
       "      <td>inf</td>\n",
       "      <td>0.6</td>\n",
       "      <td>0.666667</td>\n",
       "    </tr>\n",
       "    <tr>\n",
       "      <th>1</th>\n",
       "      <td>inf</td>\n",
       "      <td>1.0</td>\n",
       "      <td>1.111111</td>\n",
       "    </tr>\n",
       "    <tr>\n",
       "      <th>2</th>\n",
       "      <td>inf</td>\n",
       "      <td>1.0</td>\n",
       "      <td>1.111111</td>\n",
       "    </tr>\n",
       "  </tbody>\n",
       "</table>\n",
       "</div>"
      ],
      "text/plain": [
       "   Group A  Group B   Group C\n",
       "0      inf      0.6  0.666667\n",
       "1      inf      1.0  1.111111\n",
       "2      inf      1.0  1.111111"
      ]
     },
     "execution_count": 22,
     "metadata": {},
     "output_type": "execute_result"
    }
   ],
   "source": [
    "# Show group-ratios for the negative portfolio weights.\n",
    "group_ratios_neg"
   ]
  },
  {
   "cell_type": "markdown",
   "id": "d06f33da",
   "metadata": {},
   "source": [
    "## Big Example\n",
    "\n",
    "We will now consider a much larger example of 1000 assets and 20 groups, where we will generate random data for the portfolio."
   ]
  },
  {
   "cell_type": "code",
   "execution_count": 23,
   "id": "8a739f9f",
   "metadata": {},
   "outputs": [],
   "source": [
    "# Number of assets.\n",
    "num_assets = 1000\n",
    "\n",
    "# Number of groups.\n",
    "num_groups = 20\n",
    "\n",
    "# Min number of groups per asset.\n",
    "min_groups_per_asset = 1\n",
    "\n",
    "# Max number of groups per asset.\n",
    "max_groups_per_asset = 10"
   ]
  },
  {
   "cell_type": "code",
   "execution_count": 24,
   "id": "ab9764ed",
   "metadata": {},
   "outputs": [],
   "source": [
    "# List of asset-names.\n",
    "asset_names = gen_asset_names(num_assets=num_assets)\n",
    "\n",
    "# List of group-names.\n",
    "group_names = gen_group_names(num_groups=num_groups)"
   ]
  },
  {
   "cell_type": "code",
   "execution_count": 25,
   "id": "f01010cf",
   "metadata": {},
   "outputs": [],
   "source": [
    "# Generate a random data-structure for the associations between\n",
    "# assets and groups. This is a dict where each asset-name maps\n",
    "# to a list of group-names.\n",
    "asset_to_groups = \\\n",
    "    rand_groups(rng=rng, num_assets=num_assets, num_groups=num_groups,\n",
    "                max_groups_per_asset=max_groups_per_asset,\n",
    "                min_groups_per_asset=min_groups_per_asset,\n",
    "                asset_names=asset_names, group_names=group_names)"
   ]
  },
  {
   "cell_type": "code",
   "execution_count": 26,
   "id": "3394618b",
   "metadata": {},
   "outputs": [],
   "source": [
    "# Random POSITIVE group-limits.\n",
    "group_lim_pos = \\\n",
    "    rand_uniform(rng=rng, index=group_names, low=0.05, high=0.2)\n",
    "\n",
    "# Random NEGATIVE group-limits.\n",
    "group_lim_neg = \\\n",
    "    rand_uniform(rng=rng, index=group_names, low=-0.2, high=-0.05)"
   ]
  },
  {
   "cell_type": "code",
   "execution_count": 27,
   "id": "432cffab",
   "metadata": {},
   "outputs": [],
   "source": [
    "# Randomly set some of the group-limits to infinity.\n",
    "prob = 0.05\n",
    "group_lim_pos = rand_where(rng=rng, x=group_lim_pos, y=np.inf, prob=prob)\n",
    "group_lim_neg = rand_where(rng=rng, x=group_lim_neg, y=-np.inf, prob=prob)"
   ]
  },
  {
   "cell_type": "code",
   "execution_count": 28,
   "id": "3bdb8775",
   "metadata": {},
   "outputs": [],
   "source": [
    "# Random normal-distributed portfolio weights.\n",
    "weights_org = \\\n",
    "    rand_normal(rng=rng, index=asset_names,\n",
    "                mean=0.0, std=0.005, low=-1, high=1)"
   ]
  },
  {
   "cell_type": "code",
   "execution_count": 29,
   "id": "574af3a9",
   "metadata": {},
   "outputs": [],
   "source": [
    "# Initialize the solver for the Group Constraints.\n",
    "grp = GroupConstraints(asset_names=asset_names,\n",
    "                       group_names=group_names,\n",
    "                       asset_to_groups=asset_to_groups,\n",
    "                       group_lim_pos=group_lim_pos,\n",
    "                       group_lim_neg=group_lim_neg)"
   ]
  },
  {
   "cell_type": "code",
   "execution_count": 30,
   "id": "0c79afcb",
   "metadata": {},
   "outputs": [
    {
     "data": {
      "text/plain": [
       "Asset 0   -0.000363\n",
       "Asset 1   -0.001215\n",
       "Asset 2    0.001506\n",
       "Asset 3    0.000975\n",
       "Asset 4   -0.000295\n",
       "dtype: float64"
      ]
     },
     "execution_count": 30,
     "metadata": {},
     "output_type": "execute_result"
    }
   ],
   "source": [
    "# Calculate the adjusted weights that satisfy the group constraints.\n",
    "weights_new = grp.constrain_weights(weights_org=weights_org)\n",
    "weights_new.head()"
   ]
  },
  {
   "cell_type": "code",
   "execution_count": 31,
   "id": "2b71cb28",
   "metadata": {},
   "outputs": [
    {
     "data": {
      "text/html": [
       "<div>\n",
       "<style scoped>\n",
       "    .dataframe tbody tr th:only-of-type {\n",
       "        vertical-align: middle;\n",
       "    }\n",
       "\n",
       "    .dataframe tbody tr th {\n",
       "        vertical-align: top;\n",
       "    }\n",
       "\n",
       "    .dataframe thead th {\n",
       "        text-align: right;\n",
       "    }\n",
       "</style>\n",
       "<table border=\"1\" class=\"dataframe\">\n",
       "  <thead>\n",
       "    <tr style=\"text-align: right;\">\n",
       "      <th></th>\n",
       "      <th>Asset 0</th>\n",
       "      <th>Asset 1</th>\n",
       "      <th>Asset 2</th>\n",
       "      <th>Asset 3</th>\n",
       "      <th>Asset 4</th>\n",
       "      <th>Asset 5</th>\n",
       "      <th>Asset 6</th>\n",
       "      <th>Asset 7</th>\n",
       "      <th>Asset 8</th>\n",
       "      <th>Asset 9</th>\n",
       "      <th>...</th>\n",
       "      <th>Asset 990</th>\n",
       "      <th>Asset 991</th>\n",
       "      <th>Asset 992</th>\n",
       "      <th>Asset 993</th>\n",
       "      <th>Asset 994</th>\n",
       "      <th>Asset 995</th>\n",
       "      <th>Asset 996</th>\n",
       "      <th>Asset 997</th>\n",
       "      <th>Asset 998</th>\n",
       "      <th>Asset 999</th>\n",
       "    </tr>\n",
       "  </thead>\n",
       "  <tbody>\n",
       "    <tr>\n",
       "      <th>0</th>\n",
       "      <td>-0.002703</td>\n",
       "      <td>-0.004127</td>\n",
       "      <td>0.010289</td>\n",
       "      <td>0.006664</td>\n",
       "      <td>-0.001953</td>\n",
       "      <td>0.001291</td>\n",
       "      <td>-0.005768</td>\n",
       "      <td>-0.001640</td>\n",
       "      <td>0.006948</td>\n",
       "      <td>0.003853</td>\n",
       "      <td>...</td>\n",
       "      <td>0.011102</td>\n",
       "      <td>-0.004603</td>\n",
       "      <td>-0.004553</td>\n",
       "      <td>-0.005925</td>\n",
       "      <td>-0.000146</td>\n",
       "      <td>-0.007903</td>\n",
       "      <td>-0.003832</td>\n",
       "      <td>0.004990</td>\n",
       "      <td>-0.002788</td>\n",
       "      <td>0.002863</td>\n",
       "    </tr>\n",
       "    <tr>\n",
       "      <th>1</th>\n",
       "      <td>-0.000338</td>\n",
       "      <td>-0.000695</td>\n",
       "      <td>0.001461</td>\n",
       "      <td>0.000946</td>\n",
       "      <td>-0.000256</td>\n",
       "      <td>0.000161</td>\n",
       "      <td>-0.001116</td>\n",
       "      <td>-0.000215</td>\n",
       "      <td>0.001892</td>\n",
       "      <td>0.000549</td>\n",
       "      <td>...</td>\n",
       "      <td>0.001760</td>\n",
       "      <td>-0.001179</td>\n",
       "      <td>-0.000570</td>\n",
       "      <td>-0.000801</td>\n",
       "      <td>-0.000032</td>\n",
       "      <td>-0.002780</td>\n",
       "      <td>-0.000384</td>\n",
       "      <td>0.001139</td>\n",
       "      <td>-0.000366</td>\n",
       "      <td>0.000406</td>\n",
       "    </tr>\n",
       "    <tr>\n",
       "      <th>2</th>\n",
       "      <td>-0.000358</td>\n",
       "      <td>-0.000899</td>\n",
       "      <td>0.001497</td>\n",
       "      <td>0.000970</td>\n",
       "      <td>-0.000281</td>\n",
       "      <td>0.000161</td>\n",
       "      <td>-0.001620</td>\n",
       "      <td>-0.000236</td>\n",
       "      <td>0.003382</td>\n",
       "      <td>0.000564</td>\n",
       "      <td>...</td>\n",
       "      <td>0.001976</td>\n",
       "      <td>-0.002194</td>\n",
       "      <td>-0.000602</td>\n",
       "      <td>-0.000881</td>\n",
       "      <td>-0.000052</td>\n",
       "      <td>-0.006799</td>\n",
       "      <td>-0.000384</td>\n",
       "      <td>0.001699</td>\n",
       "      <td>-0.000401</td>\n",
       "      <td>0.000417</td>\n",
       "    </tr>\n",
       "    <tr>\n",
       "      <th>3</th>\n",
       "      <td>-0.000362</td>\n",
       "      <td>-0.001031</td>\n",
       "      <td>0.001504</td>\n",
       "      <td>0.000974</td>\n",
       "      <td>-0.000290</td>\n",
       "      <td>0.000161</td>\n",
       "      <td>-0.002029</td>\n",
       "      <td>-0.000244</td>\n",
       "      <td>0.005282</td>\n",
       "      <td>0.000567</td>\n",
       "      <td>...</td>\n",
       "      <td>0.002131</td>\n",
       "      <td>-0.003326</td>\n",
       "      <td>-0.000610</td>\n",
       "      <td>-0.000909</td>\n",
       "      <td>-0.000072</td>\n",
       "      <td>-0.007903</td>\n",
       "      <td>-0.000384</td>\n",
       "      <td>0.002235</td>\n",
       "      <td>-0.000415</td>\n",
       "      <td>0.000419</td>\n",
       "    </tr>\n",
       "    <tr>\n",
       "      <th>4</th>\n",
       "      <td>-0.000363</td>\n",
       "      <td>-0.001111</td>\n",
       "      <td>0.001505</td>\n",
       "      <td>0.000975</td>\n",
       "      <td>-0.000293</td>\n",
       "      <td>0.000161</td>\n",
       "      <td>-0.002331</td>\n",
       "      <td>-0.000247</td>\n",
       "      <td>0.006948</td>\n",
       "      <td>0.000568</td>\n",
       "      <td>...</td>\n",
       "      <td>0.002251</td>\n",
       "      <td>-0.004324</td>\n",
       "      <td>-0.000611</td>\n",
       "      <td>-0.000919</td>\n",
       "      <td>-0.000089</td>\n",
       "      <td>-0.007903</td>\n",
       "      <td>-0.000384</td>\n",
       "      <td>0.002676</td>\n",
       "      <td>-0.000420</td>\n",
       "      <td>0.000419</td>\n",
       "    </tr>\n",
       "  </tbody>\n",
       "</table>\n",
       "<p>5 rows × 1000 columns</p>\n",
       "</div>"
      ],
      "text/plain": [
       "    Asset 0   Asset 1   Asset 2   Asset 3   Asset 4   Asset 5   Asset 6  \\\n",
       "0 -0.002703 -0.004127  0.010289  0.006664 -0.001953  0.001291 -0.005768   \n",
       "1 -0.000338 -0.000695  0.001461  0.000946 -0.000256  0.000161 -0.001116   \n",
       "2 -0.000358 -0.000899  0.001497  0.000970 -0.000281  0.000161 -0.001620   \n",
       "3 -0.000362 -0.001031  0.001504  0.000974 -0.000290  0.000161 -0.002029   \n",
       "4 -0.000363 -0.001111  0.001505  0.000975 -0.000293  0.000161 -0.002331   \n",
       "\n",
       "    Asset 7   Asset 8   Asset 9  ...  Asset 990  Asset 991  Asset 992  \\\n",
       "0 -0.001640  0.006948  0.003853  ...   0.011102  -0.004603  -0.004553   \n",
       "1 -0.000215  0.001892  0.000549  ...   0.001760  -0.001179  -0.000570   \n",
       "2 -0.000236  0.003382  0.000564  ...   0.001976  -0.002194  -0.000602   \n",
       "3 -0.000244  0.005282  0.000567  ...   0.002131  -0.003326  -0.000610   \n",
       "4 -0.000247  0.006948  0.000568  ...   0.002251  -0.004324  -0.000611   \n",
       "\n",
       "   Asset 993  Asset 994  Asset 995  Asset 996  Asset 997  Asset 998  Asset 999  \n",
       "0  -0.005925  -0.000146  -0.007903  -0.003832   0.004990  -0.002788   0.002863  \n",
       "1  -0.000801  -0.000032  -0.002780  -0.000384   0.001139  -0.000366   0.000406  \n",
       "2  -0.000881  -0.000052  -0.006799  -0.000384   0.001699  -0.000401   0.000417  \n",
       "3  -0.000909  -0.000072  -0.007903  -0.000384   0.002235  -0.000415   0.000419  \n",
       "4  -0.000919  -0.000089  -0.007903  -0.000384   0.002676  -0.000420   0.000419  \n",
       "\n",
       "[5 rows x 1000 columns]"
      ]
     },
     "execution_count": 31,
     "metadata": {},
     "output_type": "execute_result"
    }
   ],
   "source": [
    "# Calculate and log the adjusted weights satisfying the constraints.\n",
    "weights_new_log = grp.constrain_weights(weights_org=weights_org, log=True, max_iter=20)\n",
    "weights_new_log.head()"
   ]
  },
  {
   "cell_type": "markdown",
   "id": "f22c920c",
   "metadata": {},
   "source": [
    "We will now plot the weight-ratios and group-ratios. These show how the weight- and group-ratios evolve through the iterations of the algorithm. In the first iteration all the weights are decreased massively in order to satisfy the group-constraints, so the group-sums are all smaller than their respective group-limits. But this is an over-adjustment of the portfolio weights, so in the following iterations, the portfolio weights are gradually increased as the group-sums get closer and closer to the group-limits, while the adjusted weights must still be smaller or equal to the original weights."
   ]
  },
  {
   "cell_type": "code",
   "execution_count": 32,
   "id": "50cbf8c3",
   "metadata": {
    "scrolled": true
   },
   "outputs": [
    {
     "data": {
      "image/png": "[encoded data removed]",
      "text/plain": [
       "<Figure size 720x864 with 3 Axes>"
      ]
     },
     "metadata": {
      "needs_background": "light"
     },
     "output_type": "display_data"
    }
   ],
   "source": [
    "# Create a figure with the log's weight-ratios and group-ratios.\n",
    "fig = grp.plot_log(weights_org=weights_org,\n",
    "                   weights_new_log=weights_new_log)\n",
    "\n",
    "# Save the figure to a file.\n",
    "fig.savefig('Portfolio Log.svg')\n",
    "\n",
    "# Show the figure here.\n",
    "fig;"
   ]
  },
  {
   "cell_type": "markdown",
   "id": "dbcbdc6b",
   "metadata": {},
   "source": [
    "## Time Usage\n",
    "\n",
    "We will now see how long it takes to initialize the solver and run the algorithm. This uses the same random data from above with 1000 assets and 20 groups. So this is a very large portfolio. As can be seen, it only takes around 6 milli-seconds to initialize the solver, and then it takes around 2-3 milli-seconds to run the algorithm, or 13 milli-seconds if we want to log all the intermediate results of the algorithm.\n",
    "\n",
    "Also note that a pure Python implementation needs around 100 milli-seconds to run the exact same algorithm that only takes 2-3 milli-seconds here, so the Numba Jit compiler provides a 40-50 times speed-up over pure Python."
   ]
  },
  {
   "cell_type": "code",
   "execution_count": 33,
   "id": "885a60fd",
   "metadata": {},
   "outputs": [
    {
     "name": "stdout",
     "output_type": "stream",
     "text": [
      "6.22 ms ± 646 µs per loop (mean ± std. dev. of 7 runs, 100 loops each)\n"
     ]
    }
   ],
   "source": [
    "%%timeit\n",
    "# Time-usage for initializing the solver.\n",
    "GroupConstraints(asset_names=asset_names,\n",
    "                 group_names=group_names,\n",
    "                 asset_to_groups=asset_to_groups,\n",
    "                 group_lim_pos=group_lim_pos,\n",
    "                 group_lim_neg=group_lim_neg)"
   ]
  },
  {
   "cell_type": "code",
   "execution_count": 34,
   "id": "4d9feafc",
   "metadata": {},
   "outputs": [
    {
     "name": "stdout",
     "output_type": "stream",
     "text": [
      "2.44 ms ± 127 µs per loop (mean ± std. dev. of 7 runs, 100 loops each)\n"
     ]
    }
   ],
   "source": [
    "# Time-usage for the group-constraint algorithm.\n",
    "%timeit grp.constrain_weights(weights_org=weights_org)"
   ]
  },
  {
   "cell_type": "code",
   "execution_count": 35,
   "id": "e3eefb49",
   "metadata": {},
   "outputs": [
    {
     "name": "stdout",
     "output_type": "stream",
     "text": [
      "13.8 ms ± 303 µs per loop (mean ± std. dev. of 7 runs, 100 loops each)\n"
     ]
    }
   ],
   "source": [
    "# Time-usage for the group-constraint algorithm with logging.\n",
    "# Note: It is not the logging that is time-consuming, but the\n",
    "# automated checking that all the intermediate results in the\n",
    "# log are valid and satisfy all the constraints.\n",
    "%timeit grp.constrain_weights(weights_org=weights_org, log=True)"
   ]
  },
  {
   "cell_type": "markdown",
   "id": "ba3e845f",
   "metadata": {},
   "source": [
    "## Minimum Group Constraints\n",
    "\n",
    "The algorithm only enforces upper limits for the group constraints. If you want to ensure a minimum part of your portfolio is invested in a group, then the easiest way is to set all the portfolio weights within that group to the max weight you want to allow for a single asset. The algorithm does not guarantee that the group-sum is above the lower limit because that may not be a valid solution, but the algorithm will find the best compromise."
   ]
  },
  {
   "cell_type": "markdown",
   "id": "715c1f6e",
   "metadata": {},
   "source": [
    "## License (MIT)\n",
    "\n",
    "This is published under the [MIT License](https://github.com/Hvass-Labs/InvestOps-Tutorials/blob/main/LICENSE) which allows very broad use for both academic and commercial purposes.\n",
    "\n",
    "You are very welcome to modify and use this source-code in your own project. Please keep a link to the [original repository](https://github.com/Hvass-Labs/InvestOps-Tutorials)."
   ]
  }
 ],
 "metadata": {
  "kernelspec": {
   "display_name": "Python 3 (ipykernel)",
   "language": "python",
   "name": "python3"
  },
  "language_info": {
   "codemirror_mode": {
    "name": "ipython",
    "version": 3
   },
   "file_extension": ".py",
   "mimetype": "text/x-python",
   "name": "python",
   "nbconvert_exporter": "python",
   "pygments_lexer": "ipython3",
   "version": "3.8.12"
  }
 },
 "nbformat": 4,
 "nbformat_minor": 5
}
