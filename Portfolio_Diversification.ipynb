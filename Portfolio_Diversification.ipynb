{
 "cells": [
  {
   "cell_type": "markdown",
   "id": "a294379f",
   "metadata": {},
   "source": [
    "## InvestOps Tutorial - Portfolio Diversification\n",
    "\n",
    "[Original repository on GitHub](https://github.com/Hvass-Labs/InvestOps-Tutorials)\n",
    "\n",
    "Original author is [Magnus Erik Hvass Pedersen](http://www.hvass-labs.org/)\n",
    "\n",
    "----\n",
    "\n",
    "From [Monty Python's Life of Brian](https://www.youtube.com/watch?v=KHbzSif78qQ):\n",
    "- Brian: \"*You've got to think for yourselves! You're all individuals!*\"\n",
    "- Crowd in unison: \"*Yes, we're all individuals!*\"\n",
    "- Brian: \"*You're all different!*\"\n",
    "- Crowd in unison: \"*Yes, we're all different!*\"\n",
    "- One man: \"*I'm not!*\""
   ]
  },
  {
   "cell_type": "markdown",
   "id": "ec07ce74",
   "metadata": {},
   "source": [
    "## Introduction\n",
    "\n",
    "This tutorial shows how to use the InvestOps functions `diversify_weights` and `diversify_weights_sparse` for improving the diversification of an investment portfolio, by lowering the correlations between different assets in the portfolio. The method is dubbed \"Hvass Diversification\" and is described in Section 8 of the [long paper](#refs) referenced below, and a more concise description is given in the [short paper](#refs). The method is simple, extremely fast to compute, and very robust to estimation errors in the correlation matrix.\n",
    "\n",
    "Briefly explained, given some portfolio weights of how much we want to invest in each asset, the diversification method calculates the so-called \"Full Exposure\" of how much the portfolio is actually exposed to each asset, both through the direct investment in each asset, but also through the correlation with other assets in the portfolio. The diversification method then uses a fairly simple and extremely fast algorithm to find new portfolio weights, whose Full Exposure is equal to the originally desired portfolio weights.\n",
    "\n",
    "Because the diversification method is only allowed to decrease the portfolio weights, the worst that can happen is that it moves too much of the portfolio into cash, which makes it extremely robust to estimation errors in the correlation matrix."
   ]
  },
  {
   "cell_type": "markdown",
   "id": "62ccb86f",
   "metadata": {},
   "source": [
    "## References <a id=\"refs\"></a>\n",
    "\n",
    "- M.E.H. Pedersen, \"*Simple Portfolio Optimization That Works!*\", 2021. ([PDF](https://ssrn.com/abstract=3942552))\n",
    "\n",
    "- M.E.H. Pedersen, \"*Fast Portfolio Diversification*\", 2022. ([PDF](https://ssrn.com/abstract=4009041))"
   ]
  },
  {
   "cell_type": "markdown",
   "id": "2a15efc2",
   "metadata": {},
   "source": [
    "## Google Colab"
   ]
  },
  {
   "cell_type": "code",
   "execution_count": 1,
   "id": "63722d4c",
   "metadata": {},
   "outputs": [],
   "source": [
    "# If running in Google Colab, automatically install the required\n",
    "# Python packages. This is NOT recommended on your local computer,\n",
    "# unless you have setup a Python environment for this project.\n",
    "# See the README on GitHub for detailed instructions.\n",
    "if 'google.colab' in str(get_ipython()):\n",
    "    !pip install investops numpy pandas matplotlib"
   ]
  },
  {
   "cell_type": "markdown",
   "id": "a9c18f50",
   "metadata": {},
   "source": [
    "## Imports"
   ]
  },
  {
   "cell_type": "code",
   "execution_count": 2,
   "id": "b181895d",
   "metadata": {},
   "outputs": [],
   "source": [
    "# Python packages.\n",
    "import numpy as np\n",
    "import numba as nb\n",
    "import pandas as pd\n",
    "import matplotlib.pyplot as plt"
   ]
  },
  {
   "cell_type": "code",
   "execution_count": 3,
   "id": "2696e0dc",
   "metadata": {},
   "outputs": [],
   "source": [
    "# InvestOps.\n",
    "import investops as iv\n",
    "from investops.diversify import (full_exposure, full_exposure_par,\n",
    "                                 diversify_weights, log_to_dataframe)\n",
    "from investops.random import rand_normal, rand_corr_normal, rand_zero\n",
    "from investops.normalize import normalize_weights\n",
    "from investops.check import fix_corr_matrix"
   ]
  },
  {
   "cell_type": "code",
   "execution_count": 4,
   "id": "59487464",
   "metadata": {},
   "outputs": [],
   "source": [
    "# InvestOps for sparse correlation matrix.\n",
    "from investops.diversify_sparse import (diversify_weights_sparse,\n",
    "                    full_exposure_sparse, log_to_dataframe_sparse)\n",
    "from investops.sparse import (sparse_corr_to_numpy,\n",
    "                              sparse_to_matrix, matrix_to_sparse)"
   ]
  },
  {
   "cell_type": "code",
   "execution_count": 5,
   "id": "ac1ddde6",
   "metadata": {},
   "outputs": [
    {
     "data": {
      "text/plain": [
       "'0.3.0'"
      ]
     },
     "execution_count": 5,
     "metadata": {},
     "output_type": "execute_result"
    }
   ],
   "source": [
    "# InvestOps version.\n",
    "iv.__version__"
   ]
  },
  {
   "cell_type": "markdown",
   "id": "5326a713",
   "metadata": {},
   "source": [
    "## Config"
   ]
  },
  {
   "cell_type": "code",
   "execution_count": 6,
   "id": "55d8a07f",
   "metadata": {},
   "outputs": [],
   "source": [
    "# Random number generator.\n",
    "# The seed makes the experiments repeatable.\n",
    "rng = np.random.default_rng(seed=80085)"
   ]
  },
  {
   "cell_type": "markdown",
   "id": "195b786b",
   "metadata": {},
   "source": [
    "## Positive Weights &amp; Correlations\n",
    "\n",
    "The first example is very simple. We only have 3 assets in the portfolio and all the portfolio weights and correlations are positive."
   ]
  },
  {
   "cell_type": "code",
   "execution_count": 7,
   "id": "a0df1f46",
   "metadata": {},
   "outputs": [],
   "source": [
    "# Originally desired portfolio weights.\n",
    "weights_org = np.array([0.1, 0.2, 0.3])\n",
    "\n",
    "# Correlation matrix.\n",
    "corr = np.array([[1.0, 0.5, 0.7],\n",
    "                 [0.5, 1.0, 0.2],\n",
    "                 [0.7, 0.2, 1.0]])"
   ]
  },
  {
   "cell_type": "code",
   "execution_count": 8,
   "id": "bb824516",
   "metadata": {},
   "outputs": [
    {
     "data": {
      "text/plain": [
       "array([0.17233688, 0.21771541, 0.32726136])"
      ]
     },
     "execution_count": 8,
     "metadata": {},
     "output_type": "execute_result"
    }
   ],
   "source": [
    "# Calculate and show the Full Exposure of the original weights.\n",
    "full_exposure(weights=weights_org, corr=corr)"
   ]
  },
  {
   "cell_type": "markdown",
   "id": "5f293a9c",
   "metadata": {},
   "source": [
    "So the portfolio's Full Exposure is actually 17.2% for Asset 1, 21.8% for Asset 2, and 32.7% for Asset 3, even though the original portfolio weights were only 10%, 20%, and 30%. This is because the Full Exposure measures both the portfolio's direct investment in each asset, as well as the indirect exposure through correlations with other assets in the portfolio.\n",
    "\n",
    "The goal is then to find new portfolio weights whose Full Exposure is equal to the originally desired portfolio weights, which is done by the function `diversify_weights`."
   ]
  },
  {
   "cell_type": "code",
   "execution_count": 9,
   "id": "6587c1f6",
   "metadata": {},
   "outputs": [
    {
     "data": {
      "text/plain": [
       "array([0.0435443 , 0.18911891, 0.28582913])"
      ]
     },
     "execution_count": 9,
     "metadata": {},
     "output_type": "execute_result"
    }
   ],
   "source": [
    "# Calculate and show the adjusted portfolio weights.\n",
    "diversify_weights(weights_org=weights_org, corr=corr)"
   ]
  },
  {
   "cell_type": "markdown",
   "id": "3616ce07",
   "metadata": {},
   "source": [
    "So we need to invest about 4.3% of the portfolio in Asset 1, 18.9% in Asset 2, and 28.6% in Asset 3, in order for their Full Exposures to equal the originally desired portfolio weights of 10%, 20%, and 30%."
   ]
  },
  {
   "cell_type": "markdown",
   "id": "856b78a2",
   "metadata": {},
   "source": [
    "## Using Asset Names\n",
    "\n",
    "This example shows how to use the diversification function with Pandas Series and DataFrames instead of Numpy arrays, so we can use names for the assets in the portfolio. This example uses the same portfolio weights and correlation matrix from the previous example."
   ]
  },
  {
   "cell_type": "code",
   "execution_count": 10,
   "id": "00e12d53",
   "metadata": {},
   "outputs": [],
   "source": [
    "# Stock-tickers used as the asset names in the portfolio.\n",
    "names = ['AAPL', 'GOOG', 'MSFT']"
   ]
  },
  {
   "cell_type": "code",
   "execution_count": 11,
   "id": "3951dba7",
   "metadata": {},
   "outputs": [
    {
     "data": {
      "text/html": [
       "<div>\n",
       "<style scoped>\n",
       "    .dataframe tbody tr th:only-of-type {\n",
       "        vertical-align: middle;\n",
       "    }\n",
       "\n",
       "    .dataframe tbody tr th {\n",
       "        vertical-align: top;\n",
       "    }\n",
       "\n",
       "    .dataframe thead th {\n",
       "        text-align: right;\n",
       "    }\n",
       "</style>\n",
       "<table border=\"1\" class=\"dataframe\">\n",
       "  <thead>\n",
       "    <tr style=\"text-align: right;\">\n",
       "      <th></th>\n",
       "      <th>AAPL</th>\n",
       "      <th>GOOG</th>\n",
       "      <th>MSFT</th>\n",
       "    </tr>\n",
       "  </thead>\n",
       "  <tbody>\n",
       "    <tr>\n",
       "      <th>AAPL</th>\n",
       "      <td>1.0</td>\n",
       "      <td>0.5</td>\n",
       "      <td>0.7</td>\n",
       "    </tr>\n",
       "    <tr>\n",
       "      <th>GOOG</th>\n",
       "      <td>0.5</td>\n",
       "      <td>1.0</td>\n",
       "      <td>0.2</td>\n",
       "    </tr>\n",
       "    <tr>\n",
       "      <th>MSFT</th>\n",
       "      <td>0.7</td>\n",
       "      <td>0.2</td>\n",
       "      <td>1.0</td>\n",
       "    </tr>\n",
       "  </tbody>\n",
       "</table>\n",
       "</div>"
      ],
      "text/plain": [
       "      AAPL  GOOG  MSFT\n",
       "AAPL   1.0   0.5   0.7\n",
       "GOOG   0.5   1.0   0.2\n",
       "MSFT   0.7   0.2   1.0"
      ]
     },
     "execution_count": 11,
     "metadata": {},
     "output_type": "execute_result"
    }
   ],
   "source": [
    "# Convert correlation matrix from Numpy to Pandas DataFrame.\n",
    "df_corr = pd.DataFrame(data=corr, index=names, columns=names)\n",
    "df_corr"
   ]
  },
  {
   "cell_type": "code",
   "execution_count": 12,
   "id": "6d0b03c8",
   "metadata": {},
   "outputs": [
    {
     "data": {
      "text/html": [
       "<div>\n",
       "<style scoped>\n",
       "    .dataframe tbody tr th:only-of-type {\n",
       "        vertical-align: middle;\n",
       "    }\n",
       "\n",
       "    .dataframe tbody tr th {\n",
       "        vertical-align: top;\n",
       "    }\n",
       "\n",
       "    .dataframe thead th {\n",
       "        text-align: right;\n",
       "    }\n",
       "</style>\n",
       "<table border=\"1\" class=\"dataframe\">\n",
       "  <thead>\n",
       "    <tr style=\"text-align: right;\">\n",
       "      <th></th>\n",
       "      <th>0</th>\n",
       "    </tr>\n",
       "  </thead>\n",
       "  <tbody>\n",
       "    <tr>\n",
       "      <th>AAPL</th>\n",
       "      <td>0.1</td>\n",
       "    </tr>\n",
       "    <tr>\n",
       "      <th>GOOG</th>\n",
       "      <td>0.2</td>\n",
       "    </tr>\n",
       "    <tr>\n",
       "      <th>MSFT</th>\n",
       "      <td>0.3</td>\n",
       "    </tr>\n",
       "  </tbody>\n",
       "</table>\n",
       "</div>"
      ],
      "text/plain": [
       "        0\n",
       "AAPL  0.1\n",
       "GOOG  0.2\n",
       "MSFT  0.3"
      ]
     },
     "execution_count": 12,
     "metadata": {},
     "output_type": "execute_result"
    }
   ],
   "source": [
    "# Convert original weights from Numpy to Pandas DataFrame.\n",
    "# It is recommended that you use a Pandas Series instead,\n",
    "# but if you need to use a DataFrame, it is important that\n",
    "# it is formatted like this, so it has a single column, the\n",
    "# rows are the original weights for the different assets,\n",
    "# and the index of the rows are the asset names.\n",
    "df_weights_org = pd.DataFrame(data=weights_org, index=names)\n",
    "df_weights_org"
   ]
  },
  {
   "cell_type": "code",
   "execution_count": 13,
   "id": "0f917e77",
   "metadata": {},
   "outputs": [
    {
     "data": {
      "text/plain": [
       "AAPL    0.1\n",
       "GOOG    0.2\n",
       "MSFT    0.3\n",
       "dtype: float64"
      ]
     },
     "execution_count": 13,
     "metadata": {},
     "output_type": "execute_result"
    }
   ],
   "source": [
    "# Convert original weights from Numpy to Pandas Series.\n",
    "ser_weights_org = pd.Series(data=weights_org, index=names)\n",
    "ser_weights_org"
   ]
  },
  {
   "cell_type": "code",
   "execution_count": 14,
   "id": "b922dd1c",
   "metadata": {},
   "outputs": [
    {
     "data": {
      "text/plain": [
       "AAPL    0.043544\n",
       "GOOG    0.189119\n",
       "MSFT    0.285829\n",
       "dtype: float64"
      ]
     },
     "execution_count": 14,
     "metadata": {},
     "output_type": "execute_result"
    }
   ],
   "source": [
    "# Call the diversifier with the weights being a Pandas Series.\n",
    "diversify_weights(weights_org=ser_weights_org, corr=df_corr)"
   ]
  },
  {
   "cell_type": "code",
   "execution_count": 15,
   "id": "9a498d75",
   "metadata": {},
   "outputs": [
    {
     "data": {
      "text/plain": [
       "AAPL    0.043544\n",
       "GOOG    0.189119\n",
       "MSFT    0.285829\n",
       "dtype: float64"
      ]
     },
     "execution_count": 15,
     "metadata": {},
     "output_type": "execute_result"
    }
   ],
   "source": [
    "# Call the diversifier with the weights being a Pandas DataFrame.\n",
    "diversify_weights(weights_org=df_weights_org, corr=df_corr)"
   ]
  },
  {
   "cell_type": "markdown",
   "id": "a5a73e58",
   "metadata": {},
   "source": [
    "Note that there is some extra overhead in using Pandas data with the `diversify_weights` function, because it checks the data is correct and also converts it to Numpy for internal processing, and then converts the result to a Pandas Series again.\n",
    "\n",
    "So if you are using the diversification algorithm in a performance-critical application such as back-testing or High-Frequency Trading, then you may want to only pass Numpy arrays to the `diversify_weights` function for faster computation speed."
   ]
  },
  {
   "cell_type": "markdown",
   "id": "93b196e3",
   "metadata": {},
   "source": [
    "## Positive / Negative Weights &amp; Correlations\n",
    "\n",
    "This example has both positive and negative portfolio weights and correlations. Some of the correlations are now deemed \"good\" and are therefore not included in the calculation of the Full Exposure, see Section 8.3 in the [paper](#refs) for an explanation of this."
   ]
  },
  {
   "cell_type": "code",
   "execution_count": 16,
   "id": "80bc33eb",
   "metadata": {},
   "outputs": [],
   "source": [
    "# Originally desired portfolio weights.\n",
    "weights_org = np.array([0.1, 0.2, -0.3])\n",
    "\n",
    "# Correlation matrix.\n",
    "corr = np.array([[1.0, -0.5, 0.7],\n",
    "                 [-0.5, 1.0, -0.2],\n",
    "                 [0.7, -0.2, 1.0]])"
   ]
  },
  {
   "cell_type": "code",
   "execution_count": 17,
   "id": "407e5bab",
   "metadata": {},
   "outputs": [
    {
     "data": {
      "text/plain": [
       "array([ 0.1       ,  0.2059126 , -0.30397368])"
      ]
     },
     "execution_count": 17,
     "metadata": {},
     "output_type": "execute_result"
    }
   ],
   "source": [
    "# Calculate and show the Full Exposure of the original weights.\n",
    "full_exposure(weights=weights_org, corr=corr)"
   ]
  },
  {
   "cell_type": "code",
   "execution_count": 18,
   "id": "2915c1d0",
   "metadata": {},
   "outputs": [
    {
     "data": {
      "text/plain": [
       "array([ 0.1       ,  0.1941687 , -0.29613922])"
      ]
     },
     "execution_count": 18,
     "metadata": {},
     "output_type": "execute_result"
    }
   ],
   "source": [
    "# Calculate and show the adjusted portfolio weights.\n",
    "diversify_weights(weights_org=weights_org, corr=corr)"
   ]
  },
  {
   "cell_type": "markdown",
   "id": "193fa66f",
   "metadata": {},
   "source": [
    "So we need to invest 10% of the portfolio in Asset 1 which is the same as the originally desired portfolio weight for Asset 1, because its correlations with the other two assets are deemed \"good\" so they don't require adjustment. But we should only invest 19.4% in Asset 2 and -29.6% in Asset 3. This makes all the Full Exposures equal to the originally desired portfolio weights of 10%, 20%, and -30%."
   ]
  },
  {
   "cell_type": "markdown",
   "id": "23ecb26c",
   "metadata": {},
   "source": [
    "## \"Crazy\" Initial Weights\n",
    "\n",
    "This example uses the same portfolio weights and correlations as in the previous example. But now we supply the diversification algorithm with a guess for the adjusted weights which is just \"crazy\" wrong. The diversification algorithm handles this very well, and already after the first iteration it has brought the portfolio weights back into a more normal range. See the sub-section titled \"Crazy Initialization\" in Section 8.12 of the [paper](#refs)."
   ]
  },
  {
   "cell_type": "code",
   "execution_count": 19,
   "id": "1d1225a0",
   "metadata": {},
   "outputs": [],
   "source": [
    "# Originally desired portfolio weights.\n",
    "weights_org = np.array([0.1, 0.2, -0.3])\n",
    "\n",
    "# A \"crazy\" wrong guess for the adjusted portfolio weights.\n",
    "weights_guess = np.array([-123, 0.001, -789])\n",
    "\n",
    "# Correlation matrix.\n",
    "corr = np.array([[1.0, -0.5, 0.7],\n",
    "                 [-0.5, 1.0, -0.2],\n",
    "                 [0.7, -0.2, 1.0]])"
   ]
  },
  {
   "cell_type": "code",
   "execution_count": 20,
   "id": "336a6ec5",
   "metadata": {},
   "outputs": [
    {
     "data": {
      "text/plain": [
       "array([-2.50363857e+02,  2.49621714e-01, -8.18580516e+02])"
      ]
     },
     "execution_count": 20,
     "metadata": {},
     "output_type": "execute_result"
    }
   ],
   "source": [
    "# Calculate and show the Full Exposure of the guessed weights.\n",
    "# These are very far from the originally desired portfolio weights.\n",
    "full_exposure(weights=weights_guess, corr=corr)"
   ]
  },
  {
   "cell_type": "code",
   "execution_count": 21,
   "id": "c72db44b",
   "metadata": {},
   "outputs": [
    {
     "data": {
      "text/plain": [
       "array([ 0.1       ,  0.1941446 , -0.29615551])"
      ]
     },
     "execution_count": 21,
     "metadata": {},
     "output_type": "execute_result"
    }
   ],
   "source": [
    "# Calculate the adjusted portfolio weights, using weights_guess\n",
    "# as a starting guess for the adjusted weights. Log all iterations.\n",
    "log = []\n",
    "diversify_weights(weights_org=weights_org, corr=corr,\n",
    "                  weights_guess=weights_guess, log=log)"
   ]
  },
  {
   "cell_type": "code",
   "execution_count": 22,
   "id": "50c9a1ee",
   "metadata": {},
   "outputs": [
    {
     "data": {
      "text/html": [
       "<div>\n",
       "<style scoped>\n",
       "    .dataframe tbody tr th:only-of-type {\n",
       "        vertical-align: middle;\n",
       "    }\n",
       "\n",
       "    .dataframe tbody tr th {\n",
       "        vertical-align: top;\n",
       "    }\n",
       "\n",
       "    .dataframe thead th {\n",
       "        text-align: right;\n",
       "    }\n",
       "</style>\n",
       "<table border=\"1\" class=\"dataframe\">\n",
       "  <thead>\n",
       "    <tr style=\"text-align: right;\">\n",
       "      <th></th>\n",
       "      <th>Weight 1</th>\n",
       "      <th>Full Exp. 1</th>\n",
       "      <th>Weight 2</th>\n",
       "      <th>Full Exp. 2</th>\n",
       "      <th>Weight 3</th>\n",
       "      <th>Full Exp. 3</th>\n",
       "      <th>MSE</th>\n",
       "    </tr>\n",
       "    <tr>\n",
       "      <th>Iteration</th>\n",
       "      <th></th>\n",
       "      <th></th>\n",
       "      <th></th>\n",
       "      <th></th>\n",
       "      <th></th>\n",
       "      <th></th>\n",
       "      <th></th>\n",
       "    </tr>\n",
       "  </thead>\n",
       "  <tbody>\n",
       "    <tr>\n",
       "      <th>0</th>\n",
       "      <td>-123.000000</td>\n",
       "      <td>-250.363857</td>\n",
       "      <td>0.001000</td>\n",
       "      <td>0.249622</td>\n",
       "      <td>-789.000000</td>\n",
       "      <td>-818.580516</td>\n",
       "      <td>2.441050e+05</td>\n",
       "    </tr>\n",
       "    <tr>\n",
       "      <th>1</th>\n",
       "      <td>0.049128</td>\n",
       "      <td>0.049128</td>\n",
       "      <td>0.000801</td>\n",
       "      <td>0.003148</td>\n",
       "      <td>-0.289159</td>\n",
       "      <td>-0.289175</td>\n",
       "      <td>1.381862e-02</td>\n",
       "    </tr>\n",
       "    <tr>\n",
       "      <th>2</th>\n",
       "      <td>0.100000</td>\n",
       "      <td>0.100000</td>\n",
       "      <td>0.050905</td>\n",
       "      <td>0.056588</td>\n",
       "      <td>-0.299983</td>\n",
       "      <td>-0.301000</td>\n",
       "      <td>6.856036e-03</td>\n",
       "    </tr>\n",
       "    <tr>\n",
       "      <th>3</th>\n",
       "      <td>0.100000</td>\n",
       "      <td>0.100000</td>\n",
       "      <td>0.179916</td>\n",
       "      <td>0.185800</td>\n",
       "      <td>-0.298987</td>\n",
       "      <td>-0.302564</td>\n",
       "      <td>6.940797e-05</td>\n",
       "    </tr>\n",
       "    <tr>\n",
       "      <th>4</th>\n",
       "      <td>0.100000</td>\n",
       "      <td>0.100000</td>\n",
       "      <td>0.193667</td>\n",
       "      <td>0.199508</td>\n",
       "      <td>-0.296453</td>\n",
       "      <td>-0.300302</td>\n",
       "      <td>1.111106e-07</td>\n",
       "    </tr>\n",
       "    <tr>\n",
       "      <th>5</th>\n",
       "      <td>0.100000</td>\n",
       "      <td>0.100000</td>\n",
       "      <td>0.194145</td>\n",
       "      <td>0.199980</td>\n",
       "      <td>-0.296156</td>\n",
       "      <td>-0.300013</td>\n",
       "      <td>1.918659e-10</td>\n",
       "    </tr>\n",
       "  </tbody>\n",
       "</table>\n",
       "</div>"
      ],
      "text/plain": [
       "             Weight 1  Full Exp. 1  Weight 2  Full Exp. 2    Weight 3  \\\n",
       "Iteration                                                               \n",
       "0         -123.000000  -250.363857  0.001000     0.249622 -789.000000   \n",
       "1            0.049128     0.049128  0.000801     0.003148   -0.289159   \n",
       "2            0.100000     0.100000  0.050905     0.056588   -0.299983   \n",
       "3            0.100000     0.100000  0.179916     0.185800   -0.298987   \n",
       "4            0.100000     0.100000  0.193667     0.199508   -0.296453   \n",
       "5            0.100000     0.100000  0.194145     0.199980   -0.296156   \n",
       "\n",
       "           Full Exp. 3           MSE  \n",
       "Iteration                             \n",
       "0          -818.580516  2.441050e+05  \n",
       "1            -0.289175  1.381862e-02  \n",
       "2            -0.301000  6.856036e-03  \n",
       "3            -0.302564  6.940797e-05  \n",
       "4            -0.300302  1.111106e-07  \n",
       "5            -0.300013  1.918659e-10  "
      ]
     },
     "execution_count": 22,
     "metadata": {},
     "output_type": "execute_result"
    }
   ],
   "source": [
    "# Show the log of all the iterations of weight adjustments.\n",
    "log_to_dataframe(weights_org=weights_org, corr=corr, log=log)"
   ]
  },
  {
   "cell_type": "markdown",
   "id": "001ce012",
   "metadata": {},
   "source": [
    "The diversification algorithm corrected the \"crazy\" wrong guess for the portfolio weights already after the first iteration. The bottom-row of the log shows the same adjusted portfolio weights as in the previous example, which was initialized with the original portfolio weights.\n",
    "\n",
    "Also note how the Mean Squared Error (MSE) between the Full Exposure and the originally desired weights decrease by several orders of magnitude in most iterations."
   ]
  },
  {
   "cell_type": "markdown",
   "id": "88dba09b",
   "metadata": {},
   "source": [
    "## Higher Precision\n",
    "\n",
    "This example uses the same portfolio weights and correlations as in the previous example, but it uses the default weight-initialization instead of the \"crazy\" wrong guess. And now we want an even higher precision in the adjusted portfolio weights, so their Full Exposures are even closer to the originally desired weights. This is done by setting the argument `tol` (short for \"error **tol**erance\") to a value that is close to, but not equal to zero."
   ]
  },
  {
   "cell_type": "code",
   "execution_count": 23,
   "id": "05da0947",
   "metadata": {},
   "outputs": [
    {
     "data": {
      "text/plain": [
       "array([ 0.1       ,  0.19416484, -0.29614184])"
      ]
     },
     "execution_count": 23,
     "metadata": {},
     "output_type": "execute_result"
    }
   ],
   "source": [
    "# Calculate the adjusted portfolio weights with higher precision.\n",
    "# Log all iterations.\n",
    "log = []\n",
    "diversify_weights(weights_org=weights_org, corr=corr,\n",
    "                  tol=1e-20, log=log)"
   ]
  },
  {
   "cell_type": "code",
   "execution_count": 24,
   "id": "899f7d0b",
   "metadata": {},
   "outputs": [
    {
     "data": {
      "text/html": [
       "<div>\n",
       "<style scoped>\n",
       "    .dataframe tbody tr th:only-of-type {\n",
       "        vertical-align: middle;\n",
       "    }\n",
       "\n",
       "    .dataframe tbody tr th {\n",
       "        vertical-align: top;\n",
       "    }\n",
       "\n",
       "    .dataframe thead th {\n",
       "        text-align: right;\n",
       "    }\n",
       "</style>\n",
       "<table border=\"1\" class=\"dataframe\">\n",
       "  <thead>\n",
       "    <tr style=\"text-align: right;\">\n",
       "      <th></th>\n",
       "      <th>Weight 1</th>\n",
       "      <th>Full Exp. 1</th>\n",
       "      <th>Weight 2</th>\n",
       "      <th>Full Exp. 2</th>\n",
       "      <th>Weight 3</th>\n",
       "      <th>Full Exp. 3</th>\n",
       "      <th>MSE</th>\n",
       "    </tr>\n",
       "    <tr>\n",
       "      <th>Iteration</th>\n",
       "      <th></th>\n",
       "      <th></th>\n",
       "      <th></th>\n",
       "      <th></th>\n",
       "      <th></th>\n",
       "      <th></th>\n",
       "      <th></th>\n",
       "    </tr>\n",
       "  </thead>\n",
       "  <tbody>\n",
       "    <tr>\n",
       "      <th>0</th>\n",
       "      <td>0.1</td>\n",
       "      <td>0.1</td>\n",
       "      <td>0.200000</td>\n",
       "      <td>0.205913</td>\n",
       "      <td>-0.300000</td>\n",
       "      <td>-0.303974</td>\n",
       "      <td>1.691634e-05</td>\n",
       "    </tr>\n",
       "    <tr>\n",
       "      <th>1</th>\n",
       "      <td>0.1</td>\n",
       "      <td>0.1</td>\n",
       "      <td>0.194257</td>\n",
       "      <td>0.200091</td>\n",
       "      <td>-0.296078</td>\n",
       "      <td>-0.299938</td>\n",
       "      <td>4.039732e-09</td>\n",
       "    </tr>\n",
       "    <tr>\n",
       "      <th>2</th>\n",
       "      <td>0.1</td>\n",
       "      <td>0.1</td>\n",
       "      <td>0.194169</td>\n",
       "      <td>0.200004</td>\n",
       "      <td>-0.296139</td>\n",
       "      <td>-0.299997</td>\n",
       "      <td>6.963000e-12</td>\n",
       "    </tr>\n",
       "    <tr>\n",
       "      <th>3</th>\n",
       "      <td>0.1</td>\n",
       "      <td>0.1</td>\n",
       "      <td>0.194165</td>\n",
       "      <td>0.200000</td>\n",
       "      <td>-0.296142</td>\n",
       "      <td>-0.300000</td>\n",
       "      <td>1.200798e-14</td>\n",
       "    </tr>\n",
       "    <tr>\n",
       "      <th>4</th>\n",
       "      <td>0.1</td>\n",
       "      <td>0.1</td>\n",
       "      <td>0.194165</td>\n",
       "      <td>0.200000</td>\n",
       "      <td>-0.296142</td>\n",
       "      <td>-0.300000</td>\n",
       "      <td>2.070865e-17</td>\n",
       "    </tr>\n",
       "    <tr>\n",
       "      <th>5</th>\n",
       "      <td>0.1</td>\n",
       "      <td>0.1</td>\n",
       "      <td>0.194165</td>\n",
       "      <td>0.200000</td>\n",
       "      <td>-0.296142</td>\n",
       "      <td>-0.300000</td>\n",
       "      <td>3.571366e-20</td>\n",
       "    </tr>\n",
       "    <tr>\n",
       "      <th>6</th>\n",
       "      <td>0.1</td>\n",
       "      <td>0.1</td>\n",
       "      <td>0.194165</td>\n",
       "      <td>0.200000</td>\n",
       "      <td>-0.296142</td>\n",
       "      <td>-0.300000</td>\n",
       "      <td>6.159123e-23</td>\n",
       "    </tr>\n",
       "    <tr>\n",
       "      <th>7</th>\n",
       "      <td>0.1</td>\n",
       "      <td>0.1</td>\n",
       "      <td>0.194165</td>\n",
       "      <td>0.200000</td>\n",
       "      <td>-0.296142</td>\n",
       "      <td>-0.300000</td>\n",
       "      <td>1.061951e-25</td>\n",
       "    </tr>\n",
       "    <tr>\n",
       "      <th>8</th>\n",
       "      <td>0.1</td>\n",
       "      <td>0.1</td>\n",
       "      <td>0.194165</td>\n",
       "      <td>0.200000</td>\n",
       "      <td>-0.296142</td>\n",
       "      <td>-0.300000</td>\n",
       "      <td>1.841171e-28</td>\n",
       "    </tr>\n",
       "    <tr>\n",
       "      <th>9</th>\n",
       "      <td>0.1</td>\n",
       "      <td>0.1</td>\n",
       "      <td>0.194165</td>\n",
       "      <td>0.200000</td>\n",
       "      <td>-0.296142</td>\n",
       "      <td>-0.300000</td>\n",
       "      <td>2.845241e-31</td>\n",
       "    </tr>\n",
       "    <tr>\n",
       "      <th>10</th>\n",
       "      <td>0.1</td>\n",
       "      <td>0.1</td>\n",
       "      <td>0.194165</td>\n",
       "      <td>0.200000</td>\n",
       "      <td>-0.296142</td>\n",
       "      <td>-0.300000</td>\n",
       "      <td>1.027163e-33</td>\n",
       "    </tr>\n",
       "    <tr>\n",
       "      <th>11</th>\n",
       "      <td>0.1</td>\n",
       "      <td>0.1</td>\n",
       "      <td>0.194165</td>\n",
       "      <td>0.200000</td>\n",
       "      <td>-0.296142</td>\n",
       "      <td>-0.300000</td>\n",
       "      <td>0.000000e+00</td>\n",
       "    </tr>\n",
       "    <tr>\n",
       "      <th>12</th>\n",
       "      <td>0.1</td>\n",
       "      <td>0.1</td>\n",
       "      <td>0.194165</td>\n",
       "      <td>0.200000</td>\n",
       "      <td>-0.296142</td>\n",
       "      <td>-0.300000</td>\n",
       "      <td>0.000000e+00</td>\n",
       "    </tr>\n",
       "  </tbody>\n",
       "</table>\n",
       "</div>"
      ],
      "text/plain": [
       "           Weight 1  Full Exp. 1  Weight 2  Full Exp. 2  Weight 3  \\\n",
       "Iteration                                                           \n",
       "0               0.1          0.1  0.200000     0.205913 -0.300000   \n",
       "1               0.1          0.1  0.194257     0.200091 -0.296078   \n",
       "2               0.1          0.1  0.194169     0.200004 -0.296139   \n",
       "3               0.1          0.1  0.194165     0.200000 -0.296142   \n",
       "4               0.1          0.1  0.194165     0.200000 -0.296142   \n",
       "5               0.1          0.1  0.194165     0.200000 -0.296142   \n",
       "6               0.1          0.1  0.194165     0.200000 -0.296142   \n",
       "7               0.1          0.1  0.194165     0.200000 -0.296142   \n",
       "8               0.1          0.1  0.194165     0.200000 -0.296142   \n",
       "9               0.1          0.1  0.194165     0.200000 -0.296142   \n",
       "10              0.1          0.1  0.194165     0.200000 -0.296142   \n",
       "11              0.1          0.1  0.194165     0.200000 -0.296142   \n",
       "12              0.1          0.1  0.194165     0.200000 -0.296142   \n",
       "\n",
       "           Full Exp. 3           MSE  \n",
       "Iteration                             \n",
       "0            -0.303974  1.691634e-05  \n",
       "1            -0.299938  4.039732e-09  \n",
       "2            -0.299997  6.963000e-12  \n",
       "3            -0.300000  1.200798e-14  \n",
       "4            -0.300000  2.070865e-17  \n",
       "5            -0.300000  3.571366e-20  \n",
       "6            -0.300000  6.159123e-23  \n",
       "7            -0.300000  1.061951e-25  \n",
       "8            -0.300000  1.841171e-28  \n",
       "9            -0.300000  2.845241e-31  \n",
       "10           -0.300000  1.027163e-33  \n",
       "11           -0.300000  0.000000e+00  \n",
       "12           -0.300000  0.000000e+00  "
      ]
     },
     "execution_count": 24,
     "metadata": {},
     "output_type": "execute_result"
    }
   ],
   "source": [
    "# Show the log of all the iterations of weight adjustments.\n",
    "log_to_dataframe(weights_org=weights_org, corr=corr, log=log)"
   ]
  },
  {
   "cell_type": "markdown",
   "id": "5bfe5948",
   "metadata": {},
   "source": [
    "Compared to the previous section that used the default argument `tol=1e-3` and which needed 5 iterations of the diversification algorithm to converge, we now need 11 iterations of the algorithm when `tol=1e-20`.\n",
    "\n",
    "Note that the Mean Squared Error (MSE) decreases by several orders of magnitude in each iteration and eventually becomes zero, which means the Full Exposures have become exactly equal to the originally desired portfolio weights."
   ]
  },
  {
   "cell_type": "markdown",
   "id": "b0d1bf9b",
   "metadata": {},
   "source": [
    "## Time Usage\n",
    "\n",
    "Let us now measure how long it takes to use the diversification algorithm on a portfolio with 1000 assets. We will generate random portfolio weights and correlations."
   ]
  },
  {
   "cell_type": "code",
   "execution_count": 25,
   "id": "c1e3ff30",
   "metadata": {},
   "outputs": [],
   "source": [
    "# Number of assets in the portfolio.\n",
    "num_assets = 1000\n",
    "\n",
    "# Originally desired portfolio weights.\n",
    "# These are randomly generated from a normal distribution.\n",
    "weights_org = rand_normal(rng=rng, size=num_assets,\n",
    "                          mean=0.0, std=0.05, low=-0.2, high=0.2)\n",
    "\n",
    "# Correlation matrix randomly generated from a normal distribution.\n",
    "corr = rand_corr_normal(rng=rng, num_assets=num_assets, mean=0.2)"
   ]
  },
  {
   "cell_type": "code",
   "execution_count": 26,
   "id": "a26887e4",
   "metadata": {},
   "outputs": [
    {
     "data": {
      "image/png": "[encoded data removed]",
      "text/plain": [
       "<Figure size 432x288 with 1 Axes>"
      ]
     },
     "metadata": {
      "needs_background": "light"
     },
     "output_type": "display_data"
    }
   ],
   "source": [
    "# Histogram of the randomly generated portfolio weights.\n",
    "plt.hist(weights_org, bins=100);"
   ]
  },
  {
   "cell_type": "code",
   "execution_count": 27,
   "id": "7c42182a",
   "metadata": {},
   "outputs": [
    {
     "data": {
      "image/png": "[encoded data removed]",
      "text/plain": [
       "<Figure size 432x288 with 1 Axes>"
      ]
     },
     "metadata": {
      "needs_background": "light"
     },
     "output_type": "display_data"
    }
   ],
   "source": [
    "# Histogram of the randomly generated correlation coefficients.\n",
    "plt.hist(corr.flatten(), bins=100);"
   ]
  },
  {
   "cell_type": "code",
   "execution_count": 28,
   "id": "1006ade0",
   "metadata": {},
   "outputs": [
    {
     "name": "stdout",
     "output_type": "stream",
     "text": [
      "17.6 ms ± 1.02 ms per loop (mean ± std. dev. of 7 runs, 10 loops each)\n"
     ]
    }
   ],
   "source": [
    "%%timeit\n",
    "# Measure the time-usage of the diversification algorithm.\n",
    "diversify_weights(weights_org=weights_org, corr=corr)"
   ]
  },
  {
   "cell_type": "markdown",
   "id": "c21ebc49",
   "metadata": {},
   "source": [
    "So the diversification algorithm only needed about **20 milli-seconds** to converge to a near-optimal solution for a portfolio with 1000 assets. This was run on a computer with a 2.6 GHz CPU (3.5 GHz boost). The time-usage obviously depends on the number of assets in the portfolio, the weights and correlations, and the speed of the computer.\n",
    "\n",
    "The time-complexity is quadratic if you hold the error tolerance fixed (which is the `tol` argument in the `diversify_weights` function). This means that for a portfolio of 10,000 assets, you should expect a time-usage of 10\\*10\\*20 milli-seconds = 2 seconds."
   ]
  },
  {
   "cell_type": "markdown",
   "id": "769ad4ab",
   "metadata": {},
   "source": [
    "## Compare Weights Before &amp; After\n",
    "\n",
    "Let us now compare the portfolio weights before and after they were adjusted by the diversification algorithm. This uses the same portfolio weights and correlations that were randomly generated in the previous example."
   ]
  },
  {
   "cell_type": "code",
   "execution_count": 29,
   "id": "fccdaf6d",
   "metadata": {},
   "outputs": [],
   "source": [
    "# Calculate the adjusted portfolio weights.\n",
    "weights_new = diversify_weights(weights_org=weights_org, corr=corr)"
   ]
  },
  {
   "cell_type": "code",
   "execution_count": 30,
   "id": "0d8c264f",
   "metadata": {},
   "outputs": [
    {
     "data": {
      "image/png": "[encoded data removed]",
      "text/plain": [
       "<Figure size 432x288 with 1 Axes>"
      ]
     },
     "metadata": {
      "needs_background": "light"
     },
     "output_type": "display_data"
    }
   ],
   "source": [
    "# Scatter-plot of the original portfolio weights on the x-axis\n",
    "# and the adjusted portfolio weights on the y-axis.\n",
    "plt.scatter(weights_org, weights_new);"
   ]
  },
  {
   "cell_type": "markdown",
   "id": "08e6403c",
   "metadata": {},
   "source": [
    "It appears that the diversification algorithm \"compresses\" the portfolio weights in a smooth but also non-linear way, so the weights that were originally closer to zero get moved dis-proportionally closer to zero. This of course depends on the exact values of the portfolio weights and correlations. It would be an interesting topic for you to research further. Perhaps it could lead to deeper insights into why the diversification algorithm works so well."
   ]
  },
  {
   "cell_type": "markdown",
   "id": "1fc8d3aa",
   "metadata": {},
   "source": [
    "## Weight Normalization\n",
    "\n",
    "The portfolio weights that are output from the function `diversify_weights` are not normalized, so they can sum to more than 1. This example shows how to normalize the portfolio weights using the function `normalize_weights` which can handle both positive and negative weights. We are reusing the weights and correlations from the previous examples."
   ]
  },
  {
   "cell_type": "code",
   "execution_count": 31,
   "id": "2339e420",
   "metadata": {},
   "outputs": [],
   "source": [
    "# Normalize the portfolio weights so the positive weights\n",
    "# sum to max 1.0, the negative weights sum to min -0.5,\n",
    "# and the ratio between the sums of positive and negative\n",
    "# weights is at most 0.2.\n",
    "weights_norm, cash = \\\n",
    "    normalize_weights(weights=weights_new, limit_pos=1.0,\n",
    "                      limit_neg=-0.5, max_ratio=0.2)"
   ]
  },
  {
   "cell_type": "code",
   "execution_count": 32,
   "id": "4347811f",
   "metadata": {},
   "outputs": [
    {
     "data": {
      "image/png": "[encoded data removed]",
      "text/plain": [
       "<Figure size 432x288 with 1 Axes>"
      ]
     },
     "metadata": {
      "needs_background": "light"
     },
     "output_type": "display_data"
    }
   ],
   "source": [
    "# Show the weights before (x-axis) and after (y-axis) normalization.\n",
    "plt.scatter(weights_new, weights_norm);"
   ]
  },
  {
   "cell_type": "markdown",
   "id": "8afdfa7c",
   "metadata": {},
   "source": [
    "Note that the function `normalize_weights` also accepts input-weights as 2-dimensional Numpy Arrays or Pandas DataFrames, where the rows are for time-steps and the columns are for the different assets. So you can use the function to normalize the weights for many time-steps at once, e.g. for use in back-testing an investing strategy."
   ]
  },
  {
   "cell_type": "markdown",
   "id": "e501a3de",
   "metadata": {},
   "source": [
    "## Sparse Correlation Matrix\n",
    "\n",
    "We will now use a so-called sparse correlation matrix whose elements are mostly zero. We can ignore correlations that are zero because they will not have any effect on the calculation of the Full Exposure. This can speed up the diversification algorithm."
   ]
  },
  {
   "cell_type": "markdown",
   "id": "c52e42ba",
   "metadata": {},
   "source": [
    "### Sparse Correlation - Small Example\n",
    "\n",
    "We begin with an example of a small portfolio with only 3 stocks."
   ]
  },
  {
   "cell_type": "code",
   "execution_count": 33,
   "id": "c51c312b",
   "metadata": {},
   "outputs": [],
   "source": [
    "# Number of assets in the portfolio.\n",
    "num_assets = 3"
   ]
  },
  {
   "cell_type": "code",
   "execution_count": 34,
   "id": "52e66916",
   "metadata": {},
   "outputs": [
    {
     "data": {
      "text/plain": [
       "MSFT    0.1\n",
       "BBBY    0.3\n",
       "AAPL    0.2\n",
       "dtype: float64"
      ]
     },
     "execution_count": 34,
     "metadata": {},
     "output_type": "execute_result"
    }
   ],
   "source": [
    "# Originally desired portfolio weights.\n",
    "weights_org = pd.Series(dict(MSFT=0.1, BBBY=0.3, AAPL=0.2))\n",
    "weights_org"
   ]
  },
  {
   "cell_type": "code",
   "execution_count": 35,
   "id": "e29af41b",
   "metadata": {},
   "outputs": [],
   "source": [
    "# Sparse correlation matrix.\n",
    "# Here the correlation between stocks MSFT and BBBY is 0.5\n",
    "# and the correlation between stocks AAPL and BBBY is 0.1\n",
    "corr_sparse = [('MSFT', 'BBBY', 0.5), ('AAPL', 'BBBY', 0.1)]\n",
    "\n",
    "# WARNING! The diagonal and symmetrical correlations are omitted,\n",
    "# because the diversification algorithm handles this automatically.\n",
    "# If you include the diagonal and lower-triangle matrix then the\n",
    "# diversification algorithm gives the wrong result! So you should\n",
    "# only use the upper triangle of the correlation matrix!"
   ]
  },
  {
   "cell_type": "code",
   "execution_count": 36,
   "id": "8cd8e295",
   "metadata": {},
   "outputs": [
    {
     "name": "stdout",
     "output_type": "stream",
     "text": [
      "corr_i: ('MSFT', 'AAPL')\n",
      "corr_j: ('BBBY', 'BBBY')\n",
      "corr_coef: (0.5, 0.1)\n"
     ]
    }
   ],
   "source": [
    "# The above format for a sparse correlation matrix is easy to\n",
    "# write and understand, but cannot be used directly by the Python\n",
    "# functions for diversifying the portfolio, because they use the\n",
    "# Numba Jit compiler to speed up the runtime, and that currently\n",
    "# does not support the above format properly so it runs slowly.\n",
    "# So we need to convert the sparse matrix to another format.\n",
    "\n",
    "# Convert the sparse correlation matrix into 3 tuples.\n",
    "corr_i, corr_j, corr_coef = zip(*corr_sparse)\n",
    "\n",
    "# Print the 3 tuples that define the sparse correlation matrix.\n",
    "print(f'corr_i: {corr_i}')\n",
    "print(f'corr_j: {corr_j}')\n",
    "print(f'corr_coef: {corr_coef}')"
   ]
  },
  {
   "cell_type": "code",
   "execution_count": 37,
   "id": "c2b8e826",
   "metadata": {},
   "outputs": [
    {
     "name": "stdout",
     "output_type": "stream",
     "text": [
      "weights_org_np: [0.1 0.3 0.2]\n",
      "corr_i_np: [0 2]\n",
      "corr_j_np: [1 1]\n",
      "corr_coef_np: [0.5 0.1]\n"
     ]
    }
   ],
   "source": [
    "# Convert the weights and sparse correlation matrix into Numpy\n",
    "# arrays which use integers instead of stock-tickers to identify\n",
    "# the assets in the portfolio.\n",
    "weights_org_np, corr_i_np, corr_j_np, corr_coef_np = \\\n",
    "    sparse_corr_to_numpy(weights=weights_org, corr_i=corr_i,\n",
    "                         corr_j=corr_j, corr_coef=corr_coef)\n",
    "\n",
    "# Print the weights and Numpy arrays that define the sparse\n",
    "# correlation matrix. This is in so-called Coordinate (COO) format.\n",
    "print(f'weights_org_np: {weights_org_np}')\n",
    "print(f'corr_i_np: {corr_i_np}')\n",
    "print(f'corr_j_np: {corr_j_np}')\n",
    "print(f'corr_coef_np: {corr_coef_np}')"
   ]
  },
  {
   "cell_type": "code",
   "execution_count": 38,
   "id": "392abcc3",
   "metadata": {},
   "outputs": [
    {
     "data": {
      "text/plain": [
       "array([[1. , 0.5, 0. ],\n",
       "       [0.5, 1. , 0.1],\n",
       "       [0. , 0.1, 1. ]])"
      ]
     },
     "execution_count": 38,
     "metadata": {},
     "output_type": "execute_result"
    }
   ],
   "source": [
    "# Create the dense correlation matrix, so we can compare the sparse\n",
    "# and dense versions of the diversification algorithm later.\n",
    "corr_dense = sparse_to_matrix(sparse_i=corr_i_np, sparse_j=corr_j_np, sparse_v=corr_coef_np,\n",
    "                              shape=(num_assets, num_assets))\n",
    "\n",
    "# Make the correlation matrix symmetrical.\n",
    "corr_dense += corr_dense.T\n",
    "\n",
    "# Fill the diagonal with 1.\n",
    "np.fill_diagonal(corr_dense, 1.0)\n",
    "\n",
    "# Show the dense correlation matrix.\n",
    "corr_dense"
   ]
  },
  {
   "cell_type": "code",
   "execution_count": 39,
   "id": "323bf084",
   "metadata": {},
   "outputs": [
    {
     "data": {
      "text/plain": [
       "array([0.13228757, 0.3132092 , 0.20149442])"
      ]
     },
     "execution_count": 39,
     "metadata": {},
     "output_type": "execute_result"
    }
   ],
   "source": [
    "# Calculate the Full Exposure using the SPARSE correlation matrix.\n",
    "# NOTE: This only works with Numpy arrays! You cannot use Pandas\n",
    "# data, and you should not use Python lists because it is slow!\n",
    "full_exposure_sparse(weights=weights_org_np, corr_i=corr_i_np,\n",
    "                     corr_j=corr_j_np, corr_coef=corr_coef_np)"
   ]
  },
  {
   "cell_type": "code",
   "execution_count": 40,
   "id": "2384361f",
   "metadata": {},
   "outputs": [
    {
     "data": {
      "text/plain": [
       "array([0.13228757, 0.3132092 , 0.20149442])"
      ]
     },
     "execution_count": 40,
     "metadata": {},
     "output_type": "execute_result"
    }
   ],
   "source": [
    "# Calculate the Full Exposure using the DENSE correlation matrix.\n",
    "full_exposure(weights=weights_org_np, corr=corr_dense)"
   ]
  },
  {
   "cell_type": "code",
   "execution_count": 41,
   "id": "467e1ef6",
   "metadata": {},
   "outputs": [
    {
     "data": {
      "text/plain": [
       "array([0.07020497, 0.29034873, 0.19855427])"
      ]
     },
     "execution_count": 41,
     "metadata": {},
     "output_type": "execute_result"
    }
   ],
   "source": [
    "# Diversify the portfolio weights using the SPARSE correlation matrix.\n",
    "# This uses Numpy arrays as input.\n",
    "diversify_weights_sparse(weights_org=weights_org_np,\n",
    "                         corr_i=corr_i_np, corr_j=corr_j_np,\n",
    "                         corr_coef=corr_coef_np)"
   ]
  },
  {
   "cell_type": "code",
   "execution_count": 42,
   "id": "c429dcbb",
   "metadata": {},
   "outputs": [
    {
     "data": {
      "text/plain": [
       "array([0.07020497, 0.29034873, 0.19855427])"
      ]
     },
     "execution_count": 42,
     "metadata": {},
     "output_type": "execute_result"
    }
   ],
   "source": [
    "# Diversify the portfolio weights using the DENSE correlation matrix.\n",
    "# This uses Numpy arrays as input.\n",
    "diversify_weights(weights_org=weights_org_np, corr=corr_dense)"
   ]
  },
  {
   "cell_type": "code",
   "execution_count": 43,
   "id": "d4da59a1",
   "metadata": {},
   "outputs": [
    {
     "data": {
      "text/plain": [
       "MSFT    0.070205\n",
       "BBBY    0.290349\n",
       "AAPL    0.198554\n",
       "dtype: float64"
      ]
     },
     "execution_count": 43,
     "metadata": {},
     "output_type": "execute_result"
    }
   ],
   "source": [
    "# Diversify the portfolio weights using the SPARSE correlation matrix.\n",
    "# This uses Pandas Series for the weights and lists of strings for\n",
    "# corr_i and j, which are automatically converted to Numpy arrays.\n",
    "# The iterations of the algorithm are also recorded in the log.\n",
    "log_sparse = []\n",
    "diversify_weights_sparse(weights_org=weights_org, corr_i=corr_i,\n",
    "                         corr_j=corr_j, corr_coef=corr_coef,\n",
    "                         log=log_sparse)"
   ]
  },
  {
   "cell_type": "code",
   "execution_count": 44,
   "id": "0f738d6e",
   "metadata": {},
   "outputs": [
    {
     "data": {
      "text/plain": [
       "MSFT    0.070205\n",
       "BBBY    0.290349\n",
       "AAPL    0.198554\n",
       "dtype: float64"
      ]
     },
     "execution_count": 44,
     "metadata": {},
     "output_type": "execute_result"
    }
   ],
   "source": [
    "# Diversify the portfolio weights using the DENSE correlation matrix.\n",
    "# This uses Pandas Series for the weights and DataFrame for the\n",
    "# corr. matrix, which are automatically converted to Numpy arrays.\n",
    "# The iterations of the algorithm are also recorded in the log.\n",
    "log_dense = []\n",
    "diversify_weights(weights_org=weights_org, corr=corr_dense, log=log_dense)"
   ]
  },
  {
   "cell_type": "code",
   "execution_count": 45,
   "id": "055ba858",
   "metadata": {},
   "outputs": [
    {
     "data": {
      "text/html": [
       "<div>\n",
       "<style scoped>\n",
       "    .dataframe tbody tr th:only-of-type {\n",
       "        vertical-align: middle;\n",
       "    }\n",
       "\n",
       "    .dataframe tbody tr th {\n",
       "        vertical-align: top;\n",
       "    }\n",
       "\n",
       "    .dataframe thead th {\n",
       "        text-align: right;\n",
       "    }\n",
       "</style>\n",
       "<table border=\"1\" class=\"dataframe\">\n",
       "  <thead>\n",
       "    <tr style=\"text-align: right;\">\n",
       "      <th></th>\n",
       "      <th>Weight 1</th>\n",
       "      <th>Full Exp. 1</th>\n",
       "      <th>Weight 2</th>\n",
       "      <th>Full Exp. 2</th>\n",
       "      <th>Weight 3</th>\n",
       "      <th>Full Exp. 3</th>\n",
       "      <th>MSE</th>\n",
       "    </tr>\n",
       "    <tr>\n",
       "      <th>Iteration</th>\n",
       "      <th></th>\n",
       "      <th></th>\n",
       "      <th></th>\n",
       "      <th></th>\n",
       "      <th></th>\n",
       "      <th></th>\n",
       "      <th></th>\n",
       "    </tr>\n",
       "  </thead>\n",
       "  <tbody>\n",
       "    <tr>\n",
       "      <th>0</th>\n",
       "      <td>0.100000</td>\n",
       "      <td>0.132288</td>\n",
       "      <td>0.300000</td>\n",
       "      <td>0.313209</td>\n",
       "      <td>0.200000</td>\n",
       "      <td>0.201494</td>\n",
       "      <td>4.064010e-04</td>\n",
       "    </tr>\n",
       "    <tr>\n",
       "      <th>1</th>\n",
       "      <td>0.075593</td>\n",
       "      <td>0.105568</td>\n",
       "      <td>0.287348</td>\n",
       "      <td>0.297606</td>\n",
       "      <td>0.198517</td>\n",
       "      <td>0.199948</td>\n",
       "      <td>1.224562e-05</td>\n",
       "    </tr>\n",
       "    <tr>\n",
       "      <th>2</th>\n",
       "      <td>0.071606</td>\n",
       "      <td>0.101551</td>\n",
       "      <td>0.289659</td>\n",
       "      <td>0.299437</td>\n",
       "      <td>0.198568</td>\n",
       "      <td>0.200011</td>\n",
       "      <td>9.078328e-07</td>\n",
       "    </tr>\n",
       "    <tr>\n",
       "      <th>3</th>\n",
       "      <td>0.070512</td>\n",
       "      <td>0.100437</td>\n",
       "      <td>0.290203</td>\n",
       "      <td>0.299850</td>\n",
       "      <td>0.198557</td>\n",
       "      <td>0.200003</td>\n",
       "      <td>7.121535e-08</td>\n",
       "    </tr>\n",
       "    <tr>\n",
       "      <th>4</th>\n",
       "      <td>0.070205</td>\n",
       "      <td>0.100124</td>\n",
       "      <td>0.290349</td>\n",
       "      <td>0.299958</td>\n",
       "      <td>0.198554</td>\n",
       "      <td>0.200001</td>\n",
       "      <td>5.670957e-09</td>\n",
       "    </tr>\n",
       "  </tbody>\n",
       "</table>\n",
       "</div>"
      ],
      "text/plain": [
       "           Weight 1  Full Exp. 1  Weight 2  Full Exp. 2  Weight 3  \\\n",
       "Iteration                                                           \n",
       "0          0.100000     0.132288  0.300000     0.313209  0.200000   \n",
       "1          0.075593     0.105568  0.287348     0.297606  0.198517   \n",
       "2          0.071606     0.101551  0.289659     0.299437  0.198568   \n",
       "3          0.070512     0.100437  0.290203     0.299850  0.198557   \n",
       "4          0.070205     0.100124  0.290349     0.299958  0.198554   \n",
       "\n",
       "           Full Exp. 3           MSE  \n",
       "Iteration                             \n",
       "0             0.201494  4.064010e-04  \n",
       "1             0.199948  1.224562e-05  \n",
       "2             0.200011  9.078328e-07  \n",
       "3             0.200003  7.121535e-08  \n",
       "4             0.200001  5.670957e-09  "
      ]
     },
     "execution_count": 45,
     "metadata": {},
     "output_type": "execute_result"
    }
   ],
   "source": [
    "# Show the log for the algorithm using the SPARSE corr. matrix.\n",
    "df_log_sparse = log_to_dataframe_sparse(log=log_sparse,\n",
    "                    weights_org=weights_org_np, corr_i=corr_i_np,\n",
    "                    corr_j=corr_j_np, corr_coef=corr_coef_np)\n",
    "df_log_sparse"
   ]
  },
  {
   "cell_type": "code",
   "execution_count": 46,
   "id": "28126af3",
   "metadata": {
    "scrolled": true
   },
   "outputs": [
    {
     "data": {
      "text/html": [
       "<div>\n",
       "<style scoped>\n",
       "    .dataframe tbody tr th:only-of-type {\n",
       "        vertical-align: middle;\n",
       "    }\n",
       "\n",
       "    .dataframe tbody tr th {\n",
       "        vertical-align: top;\n",
       "    }\n",
       "\n",
       "    .dataframe thead th {\n",
       "        text-align: right;\n",
       "    }\n",
       "</style>\n",
       "<table border=\"1\" class=\"dataframe\">\n",
       "  <thead>\n",
       "    <tr style=\"text-align: right;\">\n",
       "      <th></th>\n",
       "      <th>Weight 1</th>\n",
       "      <th>Full Exp. 1</th>\n",
       "      <th>Weight 2</th>\n",
       "      <th>Full Exp. 2</th>\n",
       "      <th>Weight 3</th>\n",
       "      <th>Full Exp. 3</th>\n",
       "      <th>MSE</th>\n",
       "    </tr>\n",
       "    <tr>\n",
       "      <th>Iteration</th>\n",
       "      <th></th>\n",
       "      <th></th>\n",
       "      <th></th>\n",
       "      <th></th>\n",
       "      <th></th>\n",
       "      <th></th>\n",
       "      <th></th>\n",
       "    </tr>\n",
       "  </thead>\n",
       "  <tbody>\n",
       "    <tr>\n",
       "      <th>0</th>\n",
       "      <td>0.100000</td>\n",
       "      <td>0.132288</td>\n",
       "      <td>0.300000</td>\n",
       "      <td>0.313209</td>\n",
       "      <td>0.200000</td>\n",
       "      <td>0.201494</td>\n",
       "      <td>4.064010e-04</td>\n",
       "    </tr>\n",
       "    <tr>\n",
       "      <th>1</th>\n",
       "      <td>0.075593</td>\n",
       "      <td>0.105568</td>\n",
       "      <td>0.287348</td>\n",
       "      <td>0.297606</td>\n",
       "      <td>0.198517</td>\n",
       "      <td>0.199948</td>\n",
       "      <td>1.224562e-05</td>\n",
       "    </tr>\n",
       "    <tr>\n",
       "      <th>2</th>\n",
       "      <td>0.071606</td>\n",
       "      <td>0.101551</td>\n",
       "      <td>0.289659</td>\n",
       "      <td>0.299437</td>\n",
       "      <td>0.198568</td>\n",
       "      <td>0.200011</td>\n",
       "      <td>9.078328e-07</td>\n",
       "    </tr>\n",
       "    <tr>\n",
       "      <th>3</th>\n",
       "      <td>0.070512</td>\n",
       "      <td>0.100437</td>\n",
       "      <td>0.290203</td>\n",
       "      <td>0.299850</td>\n",
       "      <td>0.198557</td>\n",
       "      <td>0.200003</td>\n",
       "      <td>7.121535e-08</td>\n",
       "    </tr>\n",
       "    <tr>\n",
       "      <th>4</th>\n",
       "      <td>0.070205</td>\n",
       "      <td>0.100124</td>\n",
       "      <td>0.290349</td>\n",
       "      <td>0.299958</td>\n",
       "      <td>0.198554</td>\n",
       "      <td>0.200001</td>\n",
       "      <td>5.670957e-09</td>\n",
       "    </tr>\n",
       "  </tbody>\n",
       "</table>\n",
       "</div>"
      ],
      "text/plain": [
       "           Weight 1  Full Exp. 1  Weight 2  Full Exp. 2  Weight 3  \\\n",
       "Iteration                                                           \n",
       "0          0.100000     0.132288  0.300000     0.313209  0.200000   \n",
       "1          0.075593     0.105568  0.287348     0.297606  0.198517   \n",
       "2          0.071606     0.101551  0.289659     0.299437  0.198568   \n",
       "3          0.070512     0.100437  0.290203     0.299850  0.198557   \n",
       "4          0.070205     0.100124  0.290349     0.299958  0.198554   \n",
       "\n",
       "           Full Exp. 3           MSE  \n",
       "Iteration                             \n",
       "0             0.201494  4.064010e-04  \n",
       "1             0.199948  1.224562e-05  \n",
       "2             0.200011  9.078328e-07  \n",
       "3             0.200003  7.121535e-08  \n",
       "4             0.200001  5.670957e-09  "
      ]
     },
     "execution_count": 46,
     "metadata": {},
     "output_type": "execute_result"
    }
   ],
   "source": [
    "# Show the log for the algorithm using the DENSE corr. matrix.\n",
    "df_log_dense = log_to_dataframe(log=log_dense, weights_org=weights_org_np,\n",
    "                                corr=corr_dense)\n",
    "df_log_dense"
   ]
  },
  {
   "cell_type": "code",
   "execution_count": 47,
   "id": "d97c3734",
   "metadata": {},
   "outputs": [
    {
     "data": {
      "text/html": [
       "<div>\n",
       "<style scoped>\n",
       "    .dataframe tbody tr th:only-of-type {\n",
       "        vertical-align: middle;\n",
       "    }\n",
       "\n",
       "    .dataframe tbody tr th {\n",
       "        vertical-align: top;\n",
       "    }\n",
       "\n",
       "    .dataframe thead th {\n",
       "        text-align: right;\n",
       "    }\n",
       "</style>\n",
       "<table border=\"1\" class=\"dataframe\">\n",
       "  <thead>\n",
       "    <tr style=\"text-align: right;\">\n",
       "      <th></th>\n",
       "      <th>min</th>\n",
       "      <th>max</th>\n",
       "    </tr>\n",
       "    <tr>\n",
       "      <th>Iteration</th>\n",
       "      <th></th>\n",
       "      <th></th>\n",
       "    </tr>\n",
       "  </thead>\n",
       "  <tbody>\n",
       "    <tr>\n",
       "      <th>0</th>\n",
       "      <td>0.0</td>\n",
       "      <td>0.0</td>\n",
       "    </tr>\n",
       "    <tr>\n",
       "      <th>1</th>\n",
       "      <td>0.0</td>\n",
       "      <td>0.0</td>\n",
       "    </tr>\n",
       "    <tr>\n",
       "      <th>2</th>\n",
       "      <td>0.0</td>\n",
       "      <td>0.0</td>\n",
       "    </tr>\n",
       "    <tr>\n",
       "      <th>3</th>\n",
       "      <td>0.0</td>\n",
       "      <td>0.0</td>\n",
       "    </tr>\n",
       "    <tr>\n",
       "      <th>4</th>\n",
       "      <td>0.0</td>\n",
       "      <td>0.0</td>\n",
       "    </tr>\n",
       "  </tbody>\n",
       "</table>\n",
       "</div>"
      ],
      "text/plain": [
       "           min  max\n",
       "Iteration          \n",
       "0          0.0  0.0\n",
       "1          0.0  0.0\n",
       "2          0.0  0.0\n",
       "3          0.0  0.0\n",
       "4          0.0  0.0"
      ]
     },
     "execution_count": 47,
     "metadata": {},
     "output_type": "execute_result"
    }
   ],
   "source": [
    "# Show the log's min/max difference between SPARSE and DENSE results.\n",
    "# These are all zero, which means the results of the SPARSE and DENSE\n",
    "# algorithms are exactly the same.\n",
    "df_log_dif = df_log_sparse - df_log_dense\n",
    "df_log_dif.T.describe().T[['min', 'max']]"
   ]
  },
  {
   "cell_type": "markdown",
   "id": "19e76b9e",
   "metadata": {},
   "source": [
    "### Sparse Correlation - Big Example\n",
    "\n",
    "Let us now consider a larger example with 1000 assets, where only about 1% of the correlation coefficients are non-zero."
   ]
  },
  {
   "cell_type": "code",
   "execution_count": 48,
   "id": "9c20c1d8",
   "metadata": {},
   "outputs": [],
   "source": [
    "# Number of assets in the portfolio.\n",
    "num_assets = 1000\n",
    "\n",
    "# Generate random portfolio weights.\n",
    "weights_org = rand_normal(rng=rng, size=num_assets,\n",
    "                          low=-1.0, high=1.0)\n",
    "\n",
    "# Generate random correlation matrix.\n",
    "corr_dense = rand_corr_normal(rng=rng, num_assets=num_assets)\n",
    "\n",
    "# Randomly set about 99% of the corr. matrix to zero.\n",
    "corr_dense = rand_zero(rng=rng, x=corr_dense, prob=0.99)\n",
    "\n",
    "# Make the correlation matrix symmetrical again.\n",
    "corr_dense += corr_dense.T\n",
    "\n",
    "# Ensure it is a valid correlation matrix.\n",
    "# This also clips the correlation coefficients between -1 and 1.\n",
    "fix_corr_matrix(corr=corr_dense, copy=False)\n",
    "\n",
    "# Only use the upper-triangle of the correlation matrix,\n",
    "# otherwise the sparse algorithm would use the correlations twice.\n",
    "corr_dense_triu = np.triu(corr_dense, k=1)\n",
    "\n",
    "# Convert to a sparse matrix in Coordinate (COO) format.\n",
    "corr_i, corr_j, corr_coef = matrix_to_sparse(mat=corr_dense_triu)"
   ]
  },
  {
   "cell_type": "code",
   "execution_count": 49,
   "id": "d292867d",
   "metadata": {},
   "outputs": [],
   "source": [
    "# Convert the sparse matrix to a dense matrix.\n",
    "mat = sparse_to_matrix(shape=(num_assets, num_assets),\n",
    "           sparse_i=corr_i, sparse_j=corr_j, sparse_v=corr_coef)\n",
    "\n",
    "# Raise an exception if there are big differences.\n",
    "np.testing.assert_allclose(mat, corr_dense_triu)"
   ]
  },
  {
   "cell_type": "code",
   "execution_count": 50,
   "id": "ae5ab2ab",
   "metadata": {},
   "outputs": [],
   "source": [
    "# Diversify the portfolio weights using the SPARSE correlation matrix.\n",
    "# This uses Pandas Series for the weights and lists of strings for\n",
    "# corr_i and j, which are automatically converted to Numpy arrays.\n",
    "log_sparse = []\n",
    "weights_new_sparse = diversify_weights_sparse(weights_org=weights_org,\n",
    "                                corr_i=corr_i, corr_j=corr_j,\n",
    "                                corr_coef=corr_coef, log=log_sparse)"
   ]
  },
  {
   "cell_type": "code",
   "execution_count": 51,
   "id": "f51bd6e2",
   "metadata": {},
   "outputs": [],
   "source": [
    "# Diversify the portfolio weights using the DENSE correlation matrix.\n",
    "# This uses Pandas Series for the weights and DataFrame for the corr.\n",
    "# matrix, which are automatically converted to Numpy arrays.\n",
    "log_dense = []\n",
    "weights_new_dense = diversify_weights(weights_org=weights_org,\n",
    "                                corr=corr_dense, log=log_dense)"
   ]
  },
  {
   "cell_type": "code",
   "execution_count": 52,
   "id": "b3314fce",
   "metadata": {},
   "outputs": [],
   "source": [
    "# Test the diversified weights are nearly identical\n",
    "# when calculated by the SPARSE and DENSE algorithms.\n",
    "# This raises an exception if there are big differences.\n",
    "np.testing.assert_allclose(weights_new_sparse, weights_new_dense)"
   ]
  },
  {
   "cell_type": "markdown",
   "id": "23801ad1",
   "metadata": {},
   "source": [
    "### Sparse vs. Dense Algorithms Results"
   ]
  },
  {
   "cell_type": "code",
   "execution_count": 53,
   "id": "7078b37d",
   "metadata": {},
   "outputs": [
    {
     "data": {
      "text/html": [
       "<div>\n",
       "<style scoped>\n",
       "    .dataframe tbody tr th:only-of-type {\n",
       "        vertical-align: middle;\n",
       "    }\n",
       "\n",
       "    .dataframe tbody tr th {\n",
       "        vertical-align: top;\n",
       "    }\n",
       "\n",
       "    .dataframe thead th {\n",
       "        text-align: right;\n",
       "    }\n",
       "</style>\n",
       "<table border=\"1\" class=\"dataframe\">\n",
       "  <thead>\n",
       "    <tr style=\"text-align: right;\">\n",
       "      <th></th>\n",
       "      <th>Weight 1</th>\n",
       "      <th>Full Exp. 1</th>\n",
       "      <th>Weight 2</th>\n",
       "      <th>Full Exp. 2</th>\n",
       "      <th>Weight 3</th>\n",
       "      <th>Full Exp. 3</th>\n",
       "      <th>Weight 4</th>\n",
       "      <th>Full Exp. 4</th>\n",
       "      <th>Weight 5</th>\n",
       "      <th>Full Exp. 5</th>\n",
       "      <th>...</th>\n",
       "      <th>Full Exp. 996</th>\n",
       "      <th>Weight 997</th>\n",
       "      <th>Full Exp. 997</th>\n",
       "      <th>Weight 998</th>\n",
       "      <th>Full Exp. 998</th>\n",
       "      <th>Weight 999</th>\n",
       "      <th>Full Exp. 999</th>\n",
       "      <th>Weight 1000</th>\n",
       "      <th>Full Exp. 1000</th>\n",
       "      <th>MSE</th>\n",
       "    </tr>\n",
       "    <tr>\n",
       "      <th>Iteration</th>\n",
       "      <th></th>\n",
       "      <th></th>\n",
       "      <th></th>\n",
       "      <th></th>\n",
       "      <th></th>\n",
       "      <th></th>\n",
       "      <th></th>\n",
       "      <th></th>\n",
       "      <th></th>\n",
       "      <th></th>\n",
       "      <th></th>\n",
       "      <th></th>\n",
       "      <th></th>\n",
       "      <th></th>\n",
       "      <th></th>\n",
       "      <th></th>\n",
       "      <th></th>\n",
       "      <th></th>\n",
       "      <th></th>\n",
       "      <th></th>\n",
       "      <th></th>\n",
       "    </tr>\n",
       "  </thead>\n",
       "  <tbody>\n",
       "    <tr>\n",
       "      <th>0</th>\n",
       "      <td>-0.045931</td>\n",
       "      <td>-0.052103</td>\n",
       "      <td>-0.040210</td>\n",
       "      <td>-0.045229</td>\n",
       "      <td>-0.046094</td>\n",
       "      <td>-0.046625</td>\n",
       "      <td>0.038366</td>\n",
       "      <td>0.044617</td>\n",
       "      <td>0.073708</td>\n",
       "      <td>0.082357</td>\n",
       "      <td>...</td>\n",
       "      <td>-0.018791</td>\n",
       "      <td>-0.025225</td>\n",
       "      <td>-0.033810</td>\n",
       "      <td>4.264695e-05</td>\n",
       "      <td>0.000618</td>\n",
       "      <td>-0.003279</td>\n",
       "      <td>-0.006187</td>\n",
       "      <td>-0.012436</td>\n",
       "      <td>-0.015360</td>\n",
       "      <td>3.613347e-05</td>\n",
       "    </tr>\n",
       "    <tr>\n",
       "      <th>1</th>\n",
       "      <td>-0.040491</td>\n",
       "      <td>-0.045555</td>\n",
       "      <td>-0.035748</td>\n",
       "      <td>-0.039917</td>\n",
       "      <td>-0.045569</td>\n",
       "      <td>-0.045964</td>\n",
       "      <td>0.032992</td>\n",
       "      <td>0.038425</td>\n",
       "      <td>0.065968</td>\n",
       "      <td>0.073318</td>\n",
       "      <td>...</td>\n",
       "      <td>-0.013370</td>\n",
       "      <td>-0.018820</td>\n",
       "      <td>-0.026022</td>\n",
       "      <td>2.941466e-06</td>\n",
       "      <td>0.000150</td>\n",
       "      <td>-0.001738</td>\n",
       "      <td>-0.004039</td>\n",
       "      <td>-0.010068</td>\n",
       "      <td>-0.012520</td>\n",
       "      <td>6.825531e-07</td>\n",
       "    </tr>\n",
       "    <tr>\n",
       "      <th>2</th>\n",
       "      <td>-0.040826</td>\n",
       "      <td>-0.045796</td>\n",
       "      <td>-0.036009</td>\n",
       "      <td>-0.040125</td>\n",
       "      <td>-0.045698</td>\n",
       "      <td>-0.046080</td>\n",
       "      <td>0.032941</td>\n",
       "      <td>0.038370</td>\n",
       "      <td>0.066319</td>\n",
       "      <td>0.073679</td>\n",
       "      <td>...</td>\n",
       "      <td>-0.012549</td>\n",
       "      <td>-0.018243</td>\n",
       "      <td>-0.025410</td>\n",
       "      <td>8.369937e-07</td>\n",
       "      <td>0.000080</td>\n",
       "      <td>-0.001411</td>\n",
       "      <td>-0.003588</td>\n",
       "      <td>-0.010000</td>\n",
       "      <td>-0.012451</td>\n",
       "      <td>8.977922e-08</td>\n",
       "    </tr>\n",
       "    <tr>\n",
       "      <th>3</th>\n",
       "      <td>-0.040947</td>\n",
       "      <td>-0.045883</td>\n",
       "      <td>-0.036086</td>\n",
       "      <td>-0.040185</td>\n",
       "      <td>-0.045712</td>\n",
       "      <td>-0.046091</td>\n",
       "      <td>0.032938</td>\n",
       "      <td>0.038367</td>\n",
       "      <td>0.066345</td>\n",
       "      <td>0.073715</td>\n",
       "      <td>...</td>\n",
       "      <td>-0.012291</td>\n",
       "      <td>-0.018110</td>\n",
       "      <td>-0.025271</td>\n",
       "      <td>4.484521e-07</td>\n",
       "      <td>0.000058</td>\n",
       "      <td>-0.001290</td>\n",
       "      <td>-0.003410</td>\n",
       "      <td>-0.009988</td>\n",
       "      <td>-0.012440</td>\n",
       "      <td>1.516588e-08</td>\n",
       "    </tr>\n",
       "    <tr>\n",
       "      <th>4</th>\n",
       "      <td>-0.040990</td>\n",
       "      <td>-0.045913</td>\n",
       "      <td>-0.036108</td>\n",
       "      <td>-0.040202</td>\n",
       "      <td>-0.045715</td>\n",
       "      <td>-0.046094</td>\n",
       "      <td>0.032938</td>\n",
       "      <td>0.038367</td>\n",
       "      <td>0.066339</td>\n",
       "      <td>0.073714</td>\n",
       "      <td>...</td>\n",
       "      <td>-0.012204</td>\n",
       "      <td>-0.018077</td>\n",
       "      <td>-0.025237</td>\n",
       "      <td>3.287387e-07</td>\n",
       "      <td>0.000050</td>\n",
       "      <td>-0.001240</td>\n",
       "      <td>-0.003336</td>\n",
       "      <td>-0.009984</td>\n",
       "      <td>-0.012437</td>\n",
       "      <td>2.871265e-09</td>\n",
       "    </tr>\n",
       "  </tbody>\n",
       "</table>\n",
       "<p>5 rows × 2001 columns</p>\n",
       "</div>"
      ],
      "text/plain": [
       "           Weight 1  Full Exp. 1  Weight 2  Full Exp. 2  Weight 3  \\\n",
       "Iteration                                                           \n",
       "0         -0.045931    -0.052103 -0.040210    -0.045229 -0.046094   \n",
       "1         -0.040491    -0.045555 -0.035748    -0.039917 -0.045569   \n",
       "2         -0.040826    -0.045796 -0.036009    -0.040125 -0.045698   \n",
       "3         -0.040947    -0.045883 -0.036086    -0.040185 -0.045712   \n",
       "4         -0.040990    -0.045913 -0.036108    -0.040202 -0.045715   \n",
       "\n",
       "           Full Exp. 3  Weight 4  Full Exp. 4  Weight 5  Full Exp. 5  ...  \\\n",
       "Iteration                                                             ...   \n",
       "0            -0.046625  0.038366     0.044617  0.073708     0.082357  ...   \n",
       "1            -0.045964  0.032992     0.038425  0.065968     0.073318  ...   \n",
       "2            -0.046080  0.032941     0.038370  0.066319     0.073679  ...   \n",
       "3            -0.046091  0.032938     0.038367  0.066345     0.073715  ...   \n",
       "4            -0.046094  0.032938     0.038367  0.066339     0.073714  ...   \n",
       "\n",
       "           Full Exp. 996  Weight 997  Full Exp. 997    Weight 998  \\\n",
       "Iteration                                                           \n",
       "0              -0.018791   -0.025225      -0.033810  4.264695e-05   \n",
       "1              -0.013370   -0.018820      -0.026022  2.941466e-06   \n",
       "2              -0.012549   -0.018243      -0.025410  8.369937e-07   \n",
       "3              -0.012291   -0.018110      -0.025271  4.484521e-07   \n",
       "4              -0.012204   -0.018077      -0.025237  3.287387e-07   \n",
       "\n",
       "           Full Exp. 998  Weight 999  Full Exp. 999  Weight 1000  \\\n",
       "Iteration                                                          \n",
       "0               0.000618   -0.003279      -0.006187    -0.012436   \n",
       "1               0.000150   -0.001738      -0.004039    -0.010068   \n",
       "2               0.000080   -0.001411      -0.003588    -0.010000   \n",
       "3               0.000058   -0.001290      -0.003410    -0.009988   \n",
       "4               0.000050   -0.001240      -0.003336    -0.009984   \n",
       "\n",
       "           Full Exp. 1000           MSE  \n",
       "Iteration                                \n",
       "0               -0.015360  3.613347e-05  \n",
       "1               -0.012520  6.825531e-07  \n",
       "2               -0.012451  8.977922e-08  \n",
       "3               -0.012440  1.516588e-08  \n",
       "4               -0.012437  2.871265e-09  \n",
       "\n",
       "[5 rows x 2001 columns]"
      ]
     },
     "execution_count": 53,
     "metadata": {},
     "output_type": "execute_result"
    }
   ],
   "source": [
    "# Show the log for the SPARSE algorithm.\n",
    "df_log_sparse = log_to_dataframe_sparse(weights_org=weights_org,\n",
    "                    corr_i=corr_i, corr_j=corr_j, corr_coef=corr_coef, log=log_sparse)\n",
    "df_log_sparse.head()"
   ]
  },
  {
   "cell_type": "code",
   "execution_count": 54,
   "id": "8eaab281",
   "metadata": {
    "scrolled": true
   },
   "outputs": [
    {
     "data": {
      "text/html": [
       "<div>\n",
       "<style scoped>\n",
       "    .dataframe tbody tr th:only-of-type {\n",
       "        vertical-align: middle;\n",
       "    }\n",
       "\n",
       "    .dataframe tbody tr th {\n",
       "        vertical-align: top;\n",
       "    }\n",
       "\n",
       "    .dataframe thead th {\n",
       "        text-align: right;\n",
       "    }\n",
       "</style>\n",
       "<table border=\"1\" class=\"dataframe\">\n",
       "  <thead>\n",
       "    <tr style=\"text-align: right;\">\n",
       "      <th></th>\n",
       "      <th>Weight 1</th>\n",
       "      <th>Full Exp. 1</th>\n",
       "      <th>Weight 2</th>\n",
       "      <th>Full Exp. 2</th>\n",
       "      <th>Weight 3</th>\n",
       "      <th>Full Exp. 3</th>\n",
       "      <th>Weight 4</th>\n",
       "      <th>Full Exp. 4</th>\n",
       "      <th>Weight 5</th>\n",
       "      <th>Full Exp. 5</th>\n",
       "      <th>...</th>\n",
       "      <th>Full Exp. 996</th>\n",
       "      <th>Weight 997</th>\n",
       "      <th>Full Exp. 997</th>\n",
       "      <th>Weight 998</th>\n",
       "      <th>Full Exp. 998</th>\n",
       "      <th>Weight 999</th>\n",
       "      <th>Full Exp. 999</th>\n",
       "      <th>Weight 1000</th>\n",
       "      <th>Full Exp. 1000</th>\n",
       "      <th>MSE</th>\n",
       "    </tr>\n",
       "    <tr>\n",
       "      <th>Iteration</th>\n",
       "      <th></th>\n",
       "      <th></th>\n",
       "      <th></th>\n",
       "      <th></th>\n",
       "      <th></th>\n",
       "      <th></th>\n",
       "      <th></th>\n",
       "      <th></th>\n",
       "      <th></th>\n",
       "      <th></th>\n",
       "      <th></th>\n",
       "      <th></th>\n",
       "      <th></th>\n",
       "      <th></th>\n",
       "      <th></th>\n",
       "      <th></th>\n",
       "      <th></th>\n",
       "      <th></th>\n",
       "      <th></th>\n",
       "      <th></th>\n",
       "      <th></th>\n",
       "    </tr>\n",
       "  </thead>\n",
       "  <tbody>\n",
       "    <tr>\n",
       "      <th>0</th>\n",
       "      <td>-0.045931</td>\n",
       "      <td>-0.052103</td>\n",
       "      <td>-0.040210</td>\n",
       "      <td>-0.045229</td>\n",
       "      <td>-0.046094</td>\n",
       "      <td>-0.046625</td>\n",
       "      <td>0.038366</td>\n",
       "      <td>0.044617</td>\n",
       "      <td>0.073708</td>\n",
       "      <td>0.082357</td>\n",
       "      <td>...</td>\n",
       "      <td>-0.018791</td>\n",
       "      <td>-0.025225</td>\n",
       "      <td>-0.033810</td>\n",
       "      <td>4.264695e-05</td>\n",
       "      <td>0.000618</td>\n",
       "      <td>-0.003279</td>\n",
       "      <td>-0.006187</td>\n",
       "      <td>-0.012436</td>\n",
       "      <td>-0.015360</td>\n",
       "      <td>3.613347e-05</td>\n",
       "    </tr>\n",
       "    <tr>\n",
       "      <th>1</th>\n",
       "      <td>-0.040491</td>\n",
       "      <td>-0.045555</td>\n",
       "      <td>-0.035748</td>\n",
       "      <td>-0.039917</td>\n",
       "      <td>-0.045569</td>\n",
       "      <td>-0.045964</td>\n",
       "      <td>0.032992</td>\n",
       "      <td>0.038425</td>\n",
       "      <td>0.065968</td>\n",
       "      <td>0.073318</td>\n",
       "      <td>...</td>\n",
       "      <td>-0.013370</td>\n",
       "      <td>-0.018820</td>\n",
       "      <td>-0.026022</td>\n",
       "      <td>2.941466e-06</td>\n",
       "      <td>0.000150</td>\n",
       "      <td>-0.001738</td>\n",
       "      <td>-0.004039</td>\n",
       "      <td>-0.010068</td>\n",
       "      <td>-0.012520</td>\n",
       "      <td>6.825531e-07</td>\n",
       "    </tr>\n",
       "    <tr>\n",
       "      <th>2</th>\n",
       "      <td>-0.040826</td>\n",
       "      <td>-0.045796</td>\n",
       "      <td>-0.036009</td>\n",
       "      <td>-0.040125</td>\n",
       "      <td>-0.045698</td>\n",
       "      <td>-0.046080</td>\n",
       "      <td>0.032941</td>\n",
       "      <td>0.038370</td>\n",
       "      <td>0.066319</td>\n",
       "      <td>0.073679</td>\n",
       "      <td>...</td>\n",
       "      <td>-0.012549</td>\n",
       "      <td>-0.018243</td>\n",
       "      <td>-0.025410</td>\n",
       "      <td>8.369937e-07</td>\n",
       "      <td>0.000080</td>\n",
       "      <td>-0.001411</td>\n",
       "      <td>-0.003588</td>\n",
       "      <td>-0.010000</td>\n",
       "      <td>-0.012451</td>\n",
       "      <td>8.977922e-08</td>\n",
       "    </tr>\n",
       "    <tr>\n",
       "      <th>3</th>\n",
       "      <td>-0.040947</td>\n",
       "      <td>-0.045883</td>\n",
       "      <td>-0.036086</td>\n",
       "      <td>-0.040185</td>\n",
       "      <td>-0.045712</td>\n",
       "      <td>-0.046091</td>\n",
       "      <td>0.032938</td>\n",
       "      <td>0.038367</td>\n",
       "      <td>0.066345</td>\n",
       "      <td>0.073715</td>\n",
       "      <td>...</td>\n",
       "      <td>-0.012291</td>\n",
       "      <td>-0.018110</td>\n",
       "      <td>-0.025271</td>\n",
       "      <td>4.484521e-07</td>\n",
       "      <td>0.000058</td>\n",
       "      <td>-0.001290</td>\n",
       "      <td>-0.003410</td>\n",
       "      <td>-0.009988</td>\n",
       "      <td>-0.012440</td>\n",
       "      <td>1.516588e-08</td>\n",
       "    </tr>\n",
       "    <tr>\n",
       "      <th>4</th>\n",
       "      <td>-0.040990</td>\n",
       "      <td>-0.045913</td>\n",
       "      <td>-0.036108</td>\n",
       "      <td>-0.040202</td>\n",
       "      <td>-0.045715</td>\n",
       "      <td>-0.046094</td>\n",
       "      <td>0.032938</td>\n",
       "      <td>0.038367</td>\n",
       "      <td>0.066339</td>\n",
       "      <td>0.073714</td>\n",
       "      <td>...</td>\n",
       "      <td>-0.012204</td>\n",
       "      <td>-0.018077</td>\n",
       "      <td>-0.025237</td>\n",
       "      <td>3.287387e-07</td>\n",
       "      <td>0.000050</td>\n",
       "      <td>-0.001240</td>\n",
       "      <td>-0.003336</td>\n",
       "      <td>-0.009984</td>\n",
       "      <td>-0.012437</td>\n",
       "      <td>2.871265e-09</td>\n",
       "    </tr>\n",
       "  </tbody>\n",
       "</table>\n",
       "<p>5 rows × 2001 columns</p>\n",
       "</div>"
      ],
      "text/plain": [
       "           Weight 1  Full Exp. 1  Weight 2  Full Exp. 2  Weight 3  \\\n",
       "Iteration                                                           \n",
       "0         -0.045931    -0.052103 -0.040210    -0.045229 -0.046094   \n",
       "1         -0.040491    -0.045555 -0.035748    -0.039917 -0.045569   \n",
       "2         -0.040826    -0.045796 -0.036009    -0.040125 -0.045698   \n",
       "3         -0.040947    -0.045883 -0.036086    -0.040185 -0.045712   \n",
       "4         -0.040990    -0.045913 -0.036108    -0.040202 -0.045715   \n",
       "\n",
       "           Full Exp. 3  Weight 4  Full Exp. 4  Weight 5  Full Exp. 5  ...  \\\n",
       "Iteration                                                             ...   \n",
       "0            -0.046625  0.038366     0.044617  0.073708     0.082357  ...   \n",
       "1            -0.045964  0.032992     0.038425  0.065968     0.073318  ...   \n",
       "2            -0.046080  0.032941     0.038370  0.066319     0.073679  ...   \n",
       "3            -0.046091  0.032938     0.038367  0.066345     0.073715  ...   \n",
       "4            -0.046094  0.032938     0.038367  0.066339     0.073714  ...   \n",
       "\n",
       "           Full Exp. 996  Weight 997  Full Exp. 997    Weight 998  \\\n",
       "Iteration                                                           \n",
       "0              -0.018791   -0.025225      -0.033810  4.264695e-05   \n",
       "1              -0.013370   -0.018820      -0.026022  2.941466e-06   \n",
       "2              -0.012549   -0.018243      -0.025410  8.369937e-07   \n",
       "3              -0.012291   -0.018110      -0.025271  4.484521e-07   \n",
       "4              -0.012204   -0.018077      -0.025237  3.287387e-07   \n",
       "\n",
       "           Full Exp. 998  Weight 999  Full Exp. 999  Weight 1000  \\\n",
       "Iteration                                                          \n",
       "0               0.000618   -0.003279      -0.006187    -0.012436   \n",
       "1               0.000150   -0.001738      -0.004039    -0.010068   \n",
       "2               0.000080   -0.001411      -0.003588    -0.010000   \n",
       "3               0.000058   -0.001290      -0.003410    -0.009988   \n",
       "4               0.000050   -0.001240      -0.003336    -0.009984   \n",
       "\n",
       "           Full Exp. 1000           MSE  \n",
       "Iteration                                \n",
       "0               -0.015360  3.613347e-05  \n",
       "1               -0.012520  6.825531e-07  \n",
       "2               -0.012451  8.977922e-08  \n",
       "3               -0.012440  1.516588e-08  \n",
       "4               -0.012437  2.871265e-09  \n",
       "\n",
       "[5 rows x 2001 columns]"
      ]
     },
     "execution_count": 54,
     "metadata": {},
     "output_type": "execute_result"
    }
   ],
   "source": [
    "# Show the log for the DENSE algorithm.\n",
    "df_log_dense = log_to_dataframe(weights_org=weights_org,\n",
    "                                corr=corr_dense, log=log_dense)\n",
    "df_log_dense.head()"
   ]
  },
  {
   "cell_type": "code",
   "execution_count": 55,
   "id": "872374be",
   "metadata": {},
   "outputs": [
    {
     "data": {
      "text/html": [
       "<div>\n",
       "<style scoped>\n",
       "    .dataframe tbody tr th:only-of-type {\n",
       "        vertical-align: middle;\n",
       "    }\n",
       "\n",
       "    .dataframe tbody tr th {\n",
       "        vertical-align: top;\n",
       "    }\n",
       "\n",
       "    .dataframe thead th {\n",
       "        text-align: right;\n",
       "    }\n",
       "</style>\n",
       "<table border=\"1\" class=\"dataframe\">\n",
       "  <thead>\n",
       "    <tr style=\"text-align: right;\">\n",
       "      <th></th>\n",
       "      <th>min</th>\n",
       "      <th>max</th>\n",
       "    </tr>\n",
       "    <tr>\n",
       "      <th>Iteration</th>\n",
       "      <th></th>\n",
       "      <th></th>\n",
       "    </tr>\n",
       "  </thead>\n",
       "  <tbody>\n",
       "    <tr>\n",
       "      <th>0</th>\n",
       "      <td>-1.387779e-17</td>\n",
       "      <td>1.387779e-17</td>\n",
       "    </tr>\n",
       "    <tr>\n",
       "      <th>1</th>\n",
       "      <td>-2.775558e-17</td>\n",
       "      <td>2.775558e-17</td>\n",
       "    </tr>\n",
       "    <tr>\n",
       "      <th>2</th>\n",
       "      <td>-8.326673e-17</td>\n",
       "      <td>2.775558e-17</td>\n",
       "    </tr>\n",
       "    <tr>\n",
       "      <th>3</th>\n",
       "      <td>-2.775558e-17</td>\n",
       "      <td>2.775558e-17</td>\n",
       "    </tr>\n",
       "    <tr>\n",
       "      <th>4</th>\n",
       "      <td>-2.775558e-17</td>\n",
       "      <td>2.775558e-17</td>\n",
       "    </tr>\n",
       "  </tbody>\n",
       "</table>\n",
       "</div>"
      ],
      "text/plain": [
       "                    min           max\n",
       "Iteration                            \n",
       "0         -1.387779e-17  1.387779e-17\n",
       "1         -2.775558e-17  2.775558e-17\n",
       "2         -8.326673e-17  2.775558e-17\n",
       "3         -2.775558e-17  2.775558e-17\n",
       "4         -2.775558e-17  2.775558e-17"
      ]
     },
     "execution_count": 55,
     "metadata": {},
     "output_type": "execute_result"
    }
   ],
   "source": [
    "# Show the log's min/max difference between SPARSE and DENSE results.\n",
    "df_log_dif = df_log_sparse - df_log_dense\n",
    "df_log_dif.T.describe().T[['min', 'max']]"
   ]
  },
  {
   "cell_type": "markdown",
   "id": "438ae29e",
   "metadata": {},
   "source": [
    "Note how the results are slightly different between the sparse and dense diversification algorithms. Mathematically speaking they are calculating the exact same thing, but because the computations are ordered differently in the two algorithms, the floating-point computations are rounded slightly differently, thus giving small differences in the results."
   ]
  },
  {
   "cell_type": "markdown",
   "id": "123bea95",
   "metadata": {},
   "source": [
    "### Sparse vs. Dense Algorithms Time-Usage\n",
    "\n",
    "The following shows that the SPARSE algorithms are roughly 25-30 times faster than the DENSE algorithms, even though the SPARSE correlation matrix only has about 1% of the correlation coefficients of the DENSE matrix, so we might expect the SPARSE algorithms to be 100 times faster than the DENSE algorithms. The difference is probably due to various kinds of computational overhead, so the time-usage of the SPARSE algorithm does not scale perfectly with the sparsity of the correlation matrix.\n",
    "\n",
    "The [short paper](#refs) referenced above has more detailed comparisons of the time-usage."
   ]
  },
  {
   "cell_type": "code",
   "execution_count": 56,
   "id": "84c87fe5",
   "metadata": {},
   "outputs": [
    {
     "name": "stdout",
     "output_type": "stream",
     "text": [
      "422 µs ± 5.6 µs per loop (mean ± std. dev. of 7 runs, 1000 loops each)\n",
      "11.1 ms ± 155 µs per loop (mean ± std. dev. of 7 runs, 100 loops each)\n"
     ]
    }
   ],
   "source": [
    "# Compare time-usage of the SPARSE and DENSE diversification algorithms.\n",
    "%timeit diversify_weights_sparse(weights_org=weights_org, corr_i=corr_i, corr_j=corr_j, corr_coef=corr_coef)\n",
    "%timeit diversify_weights(weights_org=weights_org, corr=corr_dense)"
   ]
  },
  {
   "cell_type": "code",
   "execution_count": 57,
   "id": "1bc9a2bb",
   "metadata": {},
   "outputs": [
    {
     "name": "stdout",
     "output_type": "stream",
     "text": [
      "81.2 µs ± 934 ns per loop (mean ± std. dev. of 7 runs, 10000 loops each)\n",
      "1.96 ms ± 17 µs per loop (mean ± std. dev. of 7 runs, 1000 loops each)\n"
     ]
    }
   ],
   "source": [
    "# Compare time-usage of the SPARSE and DENSE Full Exposure algorithms.\n",
    "%timeit full_exposure_sparse(weights=weights_org, corr_i=corr_i, corr_j=corr_j, corr_coef=corr_coef)\n",
    "%timeit full_exposure(weights=weights_org, corr=corr_dense)"
   ]
  },
  {
   "cell_type": "markdown",
   "id": "bd288f03",
   "metadata": {},
   "source": [
    "## Parallel vs. Serial Execution\n",
    "\n",
    "The function `full_exposure_par` is the parallel version of the function `full_exposure`, and the function `diversify_weights` can be run in parallel mode by passing the argument `parallel=True`.\n",
    "\n",
    "For portfolios with less than 200 assets, the serial version is probably faster than the parallel version. You should conduct timing experiments like the following for your particular use-case and computer, to see whether the parallel or serial version is faster for you.\n",
    "\n",
    "Note that the functions for using sparse correlation matrices currently do not support parallel execution."
   ]
  },
  {
   "cell_type": "code",
   "execution_count": 58,
   "id": "293df5db",
   "metadata": {},
   "outputs": [],
   "source": [
    "# Run the parallel versions once so their Numba JIT compilations\n",
    "# do not interfere with the timing measurements below.\n",
    "full_exposure_par(weights=weights_org, corr=corr_dense);\n",
    "diversify_weights(weights_org=weights_org, corr=corr_dense, parallel=True);"
   ]
  },
  {
   "cell_type": "code",
   "execution_count": 59,
   "id": "9ab0c696",
   "metadata": {},
   "outputs": [
    {
     "name": "stdout",
     "output_type": "stream",
     "text": [
      "11.2 ms ± 4.4 µs per loop (mean ± std. dev. of 7 runs, 100 loops each)\n",
      "5.37 ms ± 4.89 µs per loop (mean ± std. dev. of 7 runs, 100 loops each)\n"
     ]
    }
   ],
   "source": [
    "# Compare time-usage of the SERIAL and PARALLEL diversification algorithms.\n",
    "# Serial version.\n",
    "%timeit diversify_weights(weights_org=weights_org, corr=corr_dense)\n",
    "# Parallel version.\n",
    "# Note the time-usage may not scale perfectly with the number of\n",
    "# CPU cores, because only a part of the algorithm is run in parallel.\n",
    "%timeit diversify_weights(weights_org=weights_org, corr=corr_dense, parallel=True)"
   ]
  },
  {
   "cell_type": "code",
   "execution_count": 60,
   "id": "80c7e769",
   "metadata": {},
   "outputs": [
    {
     "name": "stdout",
     "output_type": "stream",
     "text": [
      "2 ms ± 58 µs per loop (mean ± std. dev. of 7 runs, 100 loops each)\n",
      "322 µs ± 660 ns per loop (mean ± std. dev. of 7 runs, 1000 loops each)\n"
     ]
    }
   ],
   "source": [
    "# Compare time-usage of the SERIAL and PARALLEL Full Exposure algorithms.\n",
    "# Serial version.\n",
    "%timeit full_exposure(weights=weights_org, corr=corr_dense)\n",
    "# Parallel version.\n",
    "%timeit full_exposure_par(weights=weights_org, corr=corr_dense)"
   ]
  },
  {
   "cell_type": "code",
   "execution_count": 61,
   "id": "20c4ba61",
   "metadata": {},
   "outputs": [],
   "source": [
    "# You can change the number of execution threads as follows.\n",
    "\n",
    "# Save the original number of execution threads that are available.\n",
    "nb_threads = nb.config.NUMBA_NUM_THREADS\n",
    "\n",
    "# Set the number of execution threads to 1, which effectively\n",
    "# makes the code run in serial mode. On Linux there is no\n",
    "# performance penalty versus using parallel mode, see the following:\n",
    "# https://numba.discourse.group/t/switching-between-parallel-serial-mode/1125/3\n",
    "nb.set_num_threads(1)\n",
    "\n",
    "# Set the number of execution threads to 2.\n",
    "nb.set_num_threads(2)\n",
    "\n",
    "# Restore the original number of execution threads available.\n",
    "nb.set_num_threads(nb_threads)    "
   ]
  },
  {
   "cell_type": "markdown",
   "id": "85de6f7f",
   "metadata": {},
   "source": [
    "## License (MIT)\n",
    "\n",
    "This is published under the [MIT License](https://github.com/Hvass-Labs/InvestOps-Tutorials/blob/main/LICENSE) which allows very broad use for both academic and commercial purposes.\n",
    "\n",
    "You are very welcome to modify and use this source-code in your own project. Please keep a link to the [original repository](https://github.com/Hvass-Labs/InvestOps-Tutorials)."
   ]
  }
 ],
 "metadata": {
  "kernelspec": {
   "display_name": "Python 3 (ipykernel)",
   "language": "python",
   "name": "python3"
  },
  "language_info": {
   "codemirror_mode": {
    "name": "ipython",
    "version": 3
   },
   "file_extension": ".py",
   "mimetype": "text/x-python",
   "name": "python",
   "nbconvert_exporter": "python",
   "pygments_lexer": "ipython3",
   "version": "3.8.12"
  }
 },
 "nbformat": 4,
 "nbformat_minor": 5
}
